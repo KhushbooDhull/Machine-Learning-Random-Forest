{
 "cells": [
  {
   "cell_type": "markdown",
   "id": "fd6994cb",
   "metadata": {},
   "source": [
    "# Taxi Fare Prediction\n",
    "## Problem Statement\n",
    "This case study is to predict the taxi fare for a taxi ride in New York City from a given pickup point to the agreed dropoff location. Decision tree and Random Forest regressor is used for the fare prediction."
   ]
  },
  {
   "cell_type": "markdown",
   "id": "bfb174b7",
   "metadata": {},
   "source": [
    "### Data Definition\n",
    "unique_id: Unique identifier or key for each record in the dataset - (string)\n",
    "\n",
    "date_time_of_pickup: time when the ride started - (timestamp)\n",
    "\n",
    "longitude_of_pickup: Longitude of the taxi ride pickup point - (float) - (Numerical)\n",
    "\n",
    "latitude_of_pickup: Latitude of the taxi ride pickup point - (float) - (Numerical)\n",
    "\n",
    "longitude__of_dropoff: Longitude of the taxi ride dropoff point - (float) - (Numerical)\n",
    "\n",
    "latitude_of_dropoff: Latitude of the taxi ride dropoff point - (float) - (Numerical)\n",
    "\n",
    "no_of_passenger: count of the passengers during the ride - (integer) - (Numerical)\n",
    "\n",
    "amount: (target variable)dollar amount of the cost of the taxi ride"
   ]
  },
  {
   "cell_type": "markdown",
   "id": "1493d3a5",
   "metadata": {},
   "source": [
    "### Importing Libraries"
   ]
  },
  {
   "cell_type": "code",
   "execution_count": 1,
   "id": "25465044",
   "metadata": {},
   "outputs": [],
   "source": [
    "import pandas as pd\n",
    "import numpy as np\n",
    "import matplotlib.pyplot as plt\n",
    "import seaborn as sns\n",
    "from warnings import filterwarnings\n",
    "filterwarnings('ignore')"
   ]
  },
  {
   "cell_type": "markdown",
   "id": "b0ddc071",
   "metadata": {},
   "source": [
    "### Read the dataset"
   ]
  },
  {
   "cell_type": "code",
   "execution_count": 2,
   "id": "804f98a3",
   "metadata": {},
   "outputs": [
    {
     "data": {
      "text/html": [
       "<div>\n",
       "<style scoped>\n",
       "    .dataframe tbody tr th:only-of-type {\n",
       "        vertical-align: middle;\n",
       "    }\n",
       "\n",
       "    .dataframe tbody tr th {\n",
       "        vertical-align: top;\n",
       "    }\n",
       "\n",
       "    .dataframe thead th {\n",
       "        text-align: right;\n",
       "    }\n",
       "</style>\n",
       "<table border=\"1\" class=\"dataframe\">\n",
       "  <thead>\n",
       "    <tr style=\"text-align: right;\">\n",
       "      <th></th>\n",
       "      <th>unique_id</th>\n",
       "      <th>amount</th>\n",
       "      <th>date_time_of_pickup</th>\n",
       "      <th>longitude_of_pickup</th>\n",
       "      <th>latitude_of_pickup</th>\n",
       "      <th>longitude_of_dropoff</th>\n",
       "      <th>latitude_of_dropoff</th>\n",
       "      <th>no_of_passenger</th>\n",
       "    </tr>\n",
       "  </thead>\n",
       "  <tbody>\n",
       "    <tr>\n",
       "      <th>0</th>\n",
       "      <td>26:21.0</td>\n",
       "      <td>4.5</td>\n",
       "      <td>2009-06-15 17:26:21+00:00</td>\n",
       "      <td>-73.844311</td>\n",
       "      <td>40.721319</td>\n",
       "      <td>-73.841610</td>\n",
       "      <td>40.712278</td>\n",
       "      <td>1</td>\n",
       "    </tr>\n",
       "    <tr>\n",
       "      <th>1</th>\n",
       "      <td>52:16.0</td>\n",
       "      <td>16.9</td>\n",
       "      <td>2010-01-05 16:52:16+00:00</td>\n",
       "      <td>-74.016048</td>\n",
       "      <td>40.711303</td>\n",
       "      <td>-73.979268</td>\n",
       "      <td>40.782004</td>\n",
       "      <td>1</td>\n",
       "    </tr>\n",
       "    <tr>\n",
       "      <th>2</th>\n",
       "      <td>35:00.0</td>\n",
       "      <td>5.7</td>\n",
       "      <td>2011-08-18 00:35:00+00:00</td>\n",
       "      <td>-73.982738</td>\n",
       "      <td>40.761270</td>\n",
       "      <td>-73.991242</td>\n",
       "      <td>40.750562</td>\n",
       "      <td>2</td>\n",
       "    </tr>\n",
       "    <tr>\n",
       "      <th>3</th>\n",
       "      <td>30:42.0</td>\n",
       "      <td>7.7</td>\n",
       "      <td>2012-04-21 04:30:42+00:00</td>\n",
       "      <td>-73.987130</td>\n",
       "      <td>40.733143</td>\n",
       "      <td>-73.991567</td>\n",
       "      <td>40.758092</td>\n",
       "      <td>1</td>\n",
       "    </tr>\n",
       "    <tr>\n",
       "      <th>4</th>\n",
       "      <td>51:00.0</td>\n",
       "      <td>5.3</td>\n",
       "      <td>2010-03-09 07:51:00+00:00</td>\n",
       "      <td>-73.968095</td>\n",
       "      <td>40.768008</td>\n",
       "      <td>-73.956655</td>\n",
       "      <td>40.783762</td>\n",
       "      <td>1</td>\n",
       "    </tr>\n",
       "  </tbody>\n",
       "</table>\n",
       "</div>"
      ],
      "text/plain": [
       "  unique_id  amount       date_time_of_pickup  longitude_of_pickup  \\\n",
       "0   26:21.0     4.5 2009-06-15 17:26:21+00:00           -73.844311   \n",
       "1   52:16.0    16.9 2010-01-05 16:52:16+00:00           -74.016048   \n",
       "2   35:00.0     5.7 2011-08-18 00:35:00+00:00           -73.982738   \n",
       "3   30:42.0     7.7 2012-04-21 04:30:42+00:00           -73.987130   \n",
       "4   51:00.0     5.3 2010-03-09 07:51:00+00:00           -73.968095   \n",
       "\n",
       "   latitude_of_pickup  longitude_of_dropoff  latitude_of_dropoff  \\\n",
       "0           40.721319            -73.841610            40.712278   \n",
       "1           40.711303            -73.979268            40.782004   \n",
       "2           40.761270            -73.991242            40.750562   \n",
       "3           40.733143            -73.991567            40.758092   \n",
       "4           40.768008            -73.956655            40.783762   \n",
       "\n",
       "   no_of_passenger  \n",
       "0                1  \n",
       "1                1  \n",
       "2                2  \n",
       "3                1  \n",
       "4                1  "
      ]
     },
     "execution_count": 2,
     "metadata": {},
     "output_type": "execute_result"
    }
   ],
   "source": [
    "df=pd.read_csv('TaxiFare.csv',parse_dates=[2])\n",
    "df.head()"
   ]
  },
  {
   "cell_type": "markdown",
   "id": "08f72fee",
   "metadata": {},
   "source": [
    "### Data Analysis and Preparation\n",
    "\t\n",
    "Data preparation is the process of cleaning and transforming raw data before building predictive models.\n",
    "\n",
    "Here, we analyze and perform the following tasks:\n",
    "1. Check data types. Ensure your data types are correct.\n",
    "2. We need to change the data types as per requirement If they are not as per business definition\n",
    "3. Go through the summary statistics\n",
    "4. Distribution of variables\n",
    "5. Study the correlation\n",
    "6. Detect outliers from the data\n",
    "7. Look for the missing values"
   ]
  },
  {
   "cell_type": "markdown",
   "id": "abe9131f",
   "metadata": {},
   "source": [
    "### Understanding the Dataset"
   ]
  },
  {
   "cell_type": "code",
   "execution_count": 3,
   "id": "30e04dba",
   "metadata": {},
   "outputs": [
    {
     "data": {
      "text/plain": [
       "(50000, 8)"
      ]
     },
     "execution_count": 3,
     "metadata": {},
     "output_type": "execute_result"
    }
   ],
   "source": [
    "df1=df.copy()\n",
    "df1.shape"
   ]
  },
  {
   "cell_type": "code",
   "execution_count": 4,
   "id": "9c77a689",
   "metadata": {},
   "outputs": [
    {
     "data": {
      "text/plain": [
       "Index(['unique_id', 'amount', 'date_time_of_pickup', 'longitude_of_pickup',\n",
       "       'latitude_of_pickup', 'longitude_of_dropoff', 'latitude_of_dropoff',\n",
       "       'no_of_passenger'],\n",
       "      dtype='object')"
      ]
     },
     "execution_count": 4,
     "metadata": {},
     "output_type": "execute_result"
    }
   ],
   "source": [
    "df1.columns"
   ]
  },
  {
   "cell_type": "markdown",
   "id": "28d65fa2",
   "metadata": {},
   "source": [
    "### Checking for Data Types"
   ]
  },
  {
   "cell_type": "code",
   "execution_count": 5,
   "id": "accacefd",
   "metadata": {},
   "outputs": [
    {
     "name": "stdout",
     "output_type": "stream",
     "text": [
      "<class 'pandas.core.frame.DataFrame'>\n",
      "RangeIndex: 50000 entries, 0 to 49999\n",
      "Data columns (total 8 columns):\n",
      " #   Column                Non-Null Count  Dtype              \n",
      "---  ------                --------------  -----              \n",
      " 0   unique_id             50000 non-null  object             \n",
      " 1   amount                50000 non-null  float64            \n",
      " 2   date_time_of_pickup   50000 non-null  datetime64[ns, UTC]\n",
      " 3   longitude_of_pickup   50000 non-null  float64            \n",
      " 4   latitude_of_pickup    50000 non-null  float64            \n",
      " 5   longitude_of_dropoff  50000 non-null  float64            \n",
      " 6   latitude_of_dropoff   50000 non-null  float64            \n",
      " 7   no_of_passenger       50000 non-null  int64              \n",
      "dtypes: datetime64[ns, UTC](1), float64(5), int64(1), object(1)\n",
      "memory usage: 3.1+ MB\n"
     ]
    }
   ],
   "source": [
    "df1.info()"
   ]
  },
  {
   "cell_type": "code",
   "execution_count": 6,
   "id": "29105893",
   "metadata": {
    "scrolled": false
   },
   "outputs": [
    {
     "data": {
      "text/plain": [
       "float64                5\n",
       "object                 1\n",
       "datetime64[ns, UTC]    1\n",
       "int64                  1\n",
       "dtype: int64"
      ]
     },
     "execution_count": 6,
     "metadata": {},
     "output_type": "execute_result"
    }
   ],
   "source": [
    "df1.dtypes.value_counts()"
   ]
  },
  {
   "cell_type": "markdown",
   "id": "ee2ed808",
   "metadata": {},
   "source": [
    "<b> 1. For getting the statistical summary of numerical variables we use the describe()"
   ]
  },
  {
   "cell_type": "code",
   "execution_count": 7,
   "id": "d05adc91",
   "metadata": {},
   "outputs": [
    {
     "data": {
      "text/html": [
       "<div>\n",
       "<style scoped>\n",
       "    .dataframe tbody tr th:only-of-type {\n",
       "        vertical-align: middle;\n",
       "    }\n",
       "\n",
       "    .dataframe tbody tr th {\n",
       "        vertical-align: top;\n",
       "    }\n",
       "\n",
       "    .dataframe thead th {\n",
       "        text-align: right;\n",
       "    }\n",
       "</style>\n",
       "<table border=\"1\" class=\"dataframe\">\n",
       "  <thead>\n",
       "    <tr style=\"text-align: right;\">\n",
       "      <th></th>\n",
       "      <th>amount</th>\n",
       "      <th>longitude_of_pickup</th>\n",
       "      <th>latitude_of_pickup</th>\n",
       "      <th>longitude_of_dropoff</th>\n",
       "      <th>latitude_of_dropoff</th>\n",
       "      <th>no_of_passenger</th>\n",
       "    </tr>\n",
       "  </thead>\n",
       "  <tbody>\n",
       "    <tr>\n",
       "      <th>count</th>\n",
       "      <td>50000.000000</td>\n",
       "      <td>50000.000000</td>\n",
       "      <td>50000.000000</td>\n",
       "      <td>50000.000000</td>\n",
       "      <td>50000.000000</td>\n",
       "      <td>50000.000000</td>\n",
       "    </tr>\n",
       "    <tr>\n",
       "      <th>mean</th>\n",
       "      <td>11.364171</td>\n",
       "      <td>-72.509756</td>\n",
       "      <td>39.933759</td>\n",
       "      <td>-72.504616</td>\n",
       "      <td>39.926251</td>\n",
       "      <td>1.667840</td>\n",
       "    </tr>\n",
       "    <tr>\n",
       "      <th>std</th>\n",
       "      <td>9.685557</td>\n",
       "      <td>10.393860</td>\n",
       "      <td>6.224857</td>\n",
       "      <td>10.407570</td>\n",
       "      <td>6.014737</td>\n",
       "      <td>1.289195</td>\n",
       "    </tr>\n",
       "    <tr>\n",
       "      <th>min</th>\n",
       "      <td>-5.000000</td>\n",
       "      <td>-75.423848</td>\n",
       "      <td>-74.006893</td>\n",
       "      <td>-84.654241</td>\n",
       "      <td>-74.006377</td>\n",
       "      <td>0.000000</td>\n",
       "    </tr>\n",
       "    <tr>\n",
       "      <th>25%</th>\n",
       "      <td>6.000000</td>\n",
       "      <td>-73.992062</td>\n",
       "      <td>40.734880</td>\n",
       "      <td>-73.991152</td>\n",
       "      <td>40.734372</td>\n",
       "      <td>1.000000</td>\n",
       "    </tr>\n",
       "    <tr>\n",
       "      <th>50%</th>\n",
       "      <td>8.500000</td>\n",
       "      <td>-73.981840</td>\n",
       "      <td>40.752678</td>\n",
       "      <td>-73.980082</td>\n",
       "      <td>40.753372</td>\n",
       "      <td>1.000000</td>\n",
       "    </tr>\n",
       "    <tr>\n",
       "      <th>75%</th>\n",
       "      <td>12.500000</td>\n",
       "      <td>-73.967148</td>\n",
       "      <td>40.767360</td>\n",
       "      <td>-73.963584</td>\n",
       "      <td>40.768167</td>\n",
       "      <td>2.000000</td>\n",
       "    </tr>\n",
       "    <tr>\n",
       "      <th>max</th>\n",
       "      <td>200.000000</td>\n",
       "      <td>40.783472</td>\n",
       "      <td>401.083332</td>\n",
       "      <td>40.851027</td>\n",
       "      <td>43.415190</td>\n",
       "      <td>6.000000</td>\n",
       "    </tr>\n",
       "  </tbody>\n",
       "</table>\n",
       "</div>"
      ],
      "text/plain": [
       "             amount  longitude_of_pickup  latitude_of_pickup  \\\n",
       "count  50000.000000         50000.000000        50000.000000   \n",
       "mean      11.364171           -72.509756           39.933759   \n",
       "std        9.685557            10.393860            6.224857   \n",
       "min       -5.000000           -75.423848          -74.006893   \n",
       "25%        6.000000           -73.992062           40.734880   \n",
       "50%        8.500000           -73.981840           40.752678   \n",
       "75%       12.500000           -73.967148           40.767360   \n",
       "max      200.000000            40.783472          401.083332   \n",
       "\n",
       "       longitude_of_dropoff  latitude_of_dropoff  no_of_passenger  \n",
       "count          50000.000000         50000.000000     50000.000000  \n",
       "mean             -72.504616            39.926251         1.667840  \n",
       "std               10.407570             6.014737         1.289195  \n",
       "min              -84.654241           -74.006377         0.000000  \n",
       "25%              -73.991152            40.734372         1.000000  \n",
       "50%              -73.980082            40.753372         1.000000  \n",
       "75%              -73.963584            40.768167         2.000000  \n",
       "max               40.851027            43.415190         6.000000  "
      ]
     },
     "execution_count": 7,
     "metadata": {},
     "output_type": "execute_result"
    }
   ],
   "source": [
    "df1.describe()"
   ]
  },
  {
   "cell_type": "markdown",
   "id": "311cfe17",
   "metadata": {},
   "source": [
    "- The above output displays the summary statistics of all the numeric variables like mean, median, standard deviation, minimum, and the maximum values, the first and third quantiles.\n",
    "\n",
    "- We can see that the no_of_passenger ranges from 0 to 6, with mean 1.66"
   ]
  },
  {
   "cell_type": "markdown",
   "id": "4a02b6d6",
   "metadata": {},
   "source": [
    "<b> 2. For getting the statistical summary of categorical features we use the describe(include = object)"
   ]
  },
  {
   "cell_type": "code",
   "execution_count": 8,
   "id": "e1b1c10b",
   "metadata": {
    "scrolled": true
   },
   "outputs": [
    {
     "data": {
      "text/html": [
       "<div>\n",
       "<style scoped>\n",
       "    .dataframe tbody tr th:only-of-type {\n",
       "        vertical-align: middle;\n",
       "    }\n",
       "\n",
       "    .dataframe tbody tr th {\n",
       "        vertical-align: top;\n",
       "    }\n",
       "\n",
       "    .dataframe thead th {\n",
       "        text-align: right;\n",
       "    }\n",
       "</style>\n",
       "<table border=\"1\" class=\"dataframe\">\n",
       "  <thead>\n",
       "    <tr style=\"text-align: right;\">\n",
       "      <th></th>\n",
       "      <th>unique_id</th>\n",
       "    </tr>\n",
       "  </thead>\n",
       "  <tbody>\n",
       "    <tr>\n",
       "      <th>count</th>\n",
       "      <td>50000</td>\n",
       "    </tr>\n",
       "    <tr>\n",
       "      <th>unique</th>\n",
       "      <td>3597</td>\n",
       "    </tr>\n",
       "    <tr>\n",
       "      <th>top</th>\n",
       "      <td>26:00.0</td>\n",
       "    </tr>\n",
       "    <tr>\n",
       "      <th>freq</th>\n",
       "      <td>457</td>\n",
       "    </tr>\n",
       "  </tbody>\n",
       "</table>\n",
       "</div>"
      ],
      "text/plain": [
       "       unique_id\n",
       "count      50000\n",
       "unique      3597\n",
       "top      26:00.0\n",
       "freq         457"
      ]
     },
     "execution_count": 8,
     "metadata": {},
     "output_type": "execute_result"
    }
   ],
   "source": [
    "df1.describe(include = object)"
   ]
  },
  {
   "cell_type": "markdown",
   "id": "a3246e87",
   "metadata": {},
   "source": [
    "- The summary statistics for categorical variables contains information about the total number of observations, number of unique classes, the most occurring class, and its frequency.\n",
    "\n",
    "- Lets understand the outputs of the above table using variable <b>'unique_id'<br></b>\n",
    "count: Number of observations = 50000<br>\n",
    "unique: Number of unique classes in the column = 3597 classes<br>\n",
    "top: The most occurring class = 26:00.0<br>\n",
    "frequency: Frequency of the most repeated class; out of 50000 observations Reg has a frequency of 457<br>"
   ]
  },
  {
   "cell_type": "code",
   "execution_count": 9,
   "id": "e1bf9338",
   "metadata": {
    "scrolled": true
   },
   "outputs": [
    {
     "data": {
      "text/html": [
       "<div>\n",
       "<style scoped>\n",
       "    .dataframe tbody tr th:only-of-type {\n",
       "        vertical-align: middle;\n",
       "    }\n",
       "\n",
       "    .dataframe tbody tr th {\n",
       "        vertical-align: top;\n",
       "    }\n",
       "\n",
       "    .dataframe thead th {\n",
       "        text-align: right;\n",
       "    }\n",
       "</style>\n",
       "<table border=\"1\" class=\"dataframe\">\n",
       "  <thead>\n",
       "    <tr style=\"text-align: right;\">\n",
       "      <th></th>\n",
       "      <th>uid</th>\n",
       "      <th>fare</th>\n",
       "      <th>pickup_dt</th>\n",
       "      <th>long_pickup</th>\n",
       "      <th>lat_pickup</th>\n",
       "      <th>long_drop</th>\n",
       "      <th>lat_drop</th>\n",
       "      <th>passe</th>\n",
       "    </tr>\n",
       "  </thead>\n",
       "  <tbody>\n",
       "    <tr>\n",
       "      <th>0</th>\n",
       "      <td>26:21.0</td>\n",
       "      <td>4.5</td>\n",
       "      <td>2009-06-15 17:26:21+00:00</td>\n",
       "      <td>-73.844311</td>\n",
       "      <td>40.721319</td>\n",
       "      <td>-73.841610</td>\n",
       "      <td>40.712278</td>\n",
       "      <td>1</td>\n",
       "    </tr>\n",
       "    <tr>\n",
       "      <th>1</th>\n",
       "      <td>52:16.0</td>\n",
       "      <td>16.9</td>\n",
       "      <td>2010-01-05 16:52:16+00:00</td>\n",
       "      <td>-74.016048</td>\n",
       "      <td>40.711303</td>\n",
       "      <td>-73.979268</td>\n",
       "      <td>40.782004</td>\n",
       "      <td>1</td>\n",
       "    </tr>\n",
       "    <tr>\n",
       "      <th>2</th>\n",
       "      <td>35:00.0</td>\n",
       "      <td>5.7</td>\n",
       "      <td>2011-08-18 00:35:00+00:00</td>\n",
       "      <td>-73.982738</td>\n",
       "      <td>40.761270</td>\n",
       "      <td>-73.991242</td>\n",
       "      <td>40.750562</td>\n",
       "      <td>2</td>\n",
       "    </tr>\n",
       "    <tr>\n",
       "      <th>3</th>\n",
       "      <td>30:42.0</td>\n",
       "      <td>7.7</td>\n",
       "      <td>2012-04-21 04:30:42+00:00</td>\n",
       "      <td>-73.987130</td>\n",
       "      <td>40.733143</td>\n",
       "      <td>-73.991567</td>\n",
       "      <td>40.758092</td>\n",
       "      <td>1</td>\n",
       "    </tr>\n",
       "    <tr>\n",
       "      <th>4</th>\n",
       "      <td>51:00.0</td>\n",
       "      <td>5.3</td>\n",
       "      <td>2010-03-09 07:51:00+00:00</td>\n",
       "      <td>-73.968095</td>\n",
       "      <td>40.768008</td>\n",
       "      <td>-73.956655</td>\n",
       "      <td>40.783762</td>\n",
       "      <td>1</td>\n",
       "    </tr>\n",
       "  </tbody>\n",
       "</table>\n",
       "</div>"
      ],
      "text/plain": [
       "       uid  fare                 pickup_dt  long_pickup  lat_pickup  \\\n",
       "0  26:21.0   4.5 2009-06-15 17:26:21+00:00   -73.844311   40.721319   \n",
       "1  52:16.0  16.9 2010-01-05 16:52:16+00:00   -74.016048   40.711303   \n",
       "2  35:00.0   5.7 2011-08-18 00:35:00+00:00   -73.982738   40.761270   \n",
       "3  30:42.0   7.7 2012-04-21 04:30:42+00:00   -73.987130   40.733143   \n",
       "4  51:00.0   5.3 2010-03-09 07:51:00+00:00   -73.968095   40.768008   \n",
       "\n",
       "   long_drop   lat_drop  passe  \n",
       "0 -73.841610  40.712278      1  \n",
       "1 -73.979268  40.782004      1  \n",
       "2 -73.991242  40.750562      2  \n",
       "3 -73.991567  40.758092      1  \n",
       "4 -73.956655  40.783762      1  "
      ]
     },
     "execution_count": 9,
     "metadata": {},
     "output_type": "execute_result"
    }
   ],
   "source": [
    "df1.columns=['uid','fare','pickup_dt','long_pickup','lat_pickup','long_drop','lat_drop','passe']\n",
    "df1.head()"
   ]
  },
  {
   "cell_type": "markdown",
   "id": "ecd6fc2a",
   "metadata": {},
   "source": [
    "### Checking For Null Values & Duplicates"
   ]
  },
  {
   "cell_type": "code",
   "execution_count": 10,
   "id": "af63cdbc",
   "metadata": {},
   "outputs": [
    {
     "data": {
      "text/plain": [
       "uid            0\n",
       "fare           0\n",
       "pickup_dt      0\n",
       "long_pickup    0\n",
       "lat_pickup     0\n",
       "long_drop      0\n",
       "lat_drop       0\n",
       "passe          0\n",
       "dtype: int64"
      ]
     },
     "execution_count": 10,
     "metadata": {},
     "output_type": "execute_result"
    }
   ],
   "source": [
    "df1.isnull().sum()"
   ]
  },
  {
   "cell_type": "code",
   "execution_count": 11,
   "id": "b0e281d4",
   "metadata": {},
   "outputs": [
    {
     "data": {
      "text/plain": [
       "0"
      ]
     },
     "execution_count": 11,
     "metadata": {},
     "output_type": "execute_result"
    }
   ],
   "source": [
    "df1.duplicated().sum()"
   ]
  },
  {
   "cell_type": "markdown",
   "id": "15070d53",
   "metadata": {},
   "source": [
    "### Univariate Data Analysis"
   ]
  },
  {
   "cell_type": "code",
   "execution_count": 12,
   "id": "d5a0dc7a",
   "metadata": {
    "scrolled": false
   },
   "outputs": [
    {
     "name": "stdout",
     "output_type": "stream",
     "text": [
      "\n",
      "uid\n",
      "26:00.0    457\n",
      "33:00.0    439\n",
      "11:00.0    436\n",
      "32:00.0    429\n",
      "20:00.0    424\n",
      "          ... \n",
      "56:16.0      1\n",
      "40:52.0      1\n",
      "53:10.0      1\n",
      "15:21.0      1\n",
      "53:22.0      1\n",
      "Name: uid, Length: 3597, dtype: int64\n",
      "\n",
      "fare\n",
      "6.50     2468\n",
      "4.50     2104\n",
      "8.50     1929\n",
      "6.10     1441\n",
      "5.30     1440\n",
      "         ... \n",
      "26.60       1\n",
      "25.39       1\n",
      "55.83       1\n",
      "30.04       1\n",
      "27.05       1\n",
      "Name: fare, Length: 703, dtype: int64\n",
      "\n",
      "pickup_dt\n",
      "2011-09-03 01:30:00+00:00    3\n",
      "2014-05-30 23:38:00+00:00    3\n",
      "2012-06-28 20:54:00+00:00    3\n",
      "2011-02-11 13:19:00+00:00    3\n",
      "2014-05-30 10:50:00+00:00    2\n",
      "                            ..\n",
      "2011-10-07 00:24:25+00:00    1\n",
      "2015-04-02 06:47:05+00:00    1\n",
      "2011-01-09 10:09:58+00:00    1\n",
      "2012-10-27 18:11:00+00:00    1\n",
      "2010-01-13 08:13:14+00:00    1\n",
      "Name: pickup_dt, Length: 49555, dtype: int64\n",
      "\n",
      "long_pickup\n",
      " 0.000000     955\n",
      "-73.137393     18\n",
      "-73.981405      9\n",
      "-73.980947      8\n",
      "-73.982268      8\n",
      "             ... \n",
      "-73.969862      1\n",
      "-73.988610      1\n",
      "-74.000758      1\n",
      "-73.969658      1\n",
      "-73.932603      1\n",
      "Name: long_pickup, Length: 33716, dtype: int64\n",
      "\n",
      "lat_pickup\n",
      "0.000000     955\n",
      "41.366138     18\n",
      "40.756007     10\n",
      "40.763975      8\n",
      "40.757500      7\n",
      "            ... \n",
      "40.725295      1\n",
      "40.768578      1\n",
      "40.740649      1\n",
      "40.772588      1\n",
      "40.768434      1\n",
      "Name: lat_pickup, Length: 36594, dtype: int64\n",
      "\n",
      "long_drop\n",
      " 0.000000     958\n",
      "-73.137393     12\n",
      "-73.991512      9\n",
      "-73.980812      8\n",
      "-73.983348      8\n",
      "             ... \n",
      "-73.969799      1\n",
      "-73.972204      1\n",
      "-73.959493      1\n",
      "-73.953758      1\n",
      "-73.932603      1\n",
      "Name: long_drop, Length: 34878, dtype: int64\n",
      "\n",
      "lat_drop\n",
      "0.000000     955\n",
      "41.366138     12\n",
      "40.757407      8\n",
      "40.761500      8\n",
      "40.762182      7\n",
      "            ... \n",
      "40.705050      1\n",
      "40.769895      1\n",
      "40.790036      1\n",
      "40.760211      1\n",
      "40.763805      1\n",
      "Name: lat_drop, Length: 37423, dtype: int64\n",
      "\n",
      "passe\n",
      "1    34808\n",
      "2     7386\n",
      "5     3453\n",
      "3     2183\n",
      "4     1016\n",
      "6      989\n",
      "0      165\n",
      "Name: passe, dtype: int64\n"
     ]
    }
   ],
   "source": [
    "for column in df1.columns:\n",
    "     print(\"\\n\" + column)\n",
    "     print(df1[column].value_counts())"
   ]
  },
  {
   "cell_type": "markdown",
   "id": "7dcf4d59",
   "metadata": {},
   "source": [
    "<b> Numerical Columns"
   ]
  },
  {
   "cell_type": "code",
   "execution_count": 13,
   "id": "aea5c3e6",
   "metadata": {},
   "outputs": [],
   "source": [
    "df1_numerical= df1.select_dtypes(include='number')"
   ]
  },
  {
   "cell_type": "code",
   "execution_count": 14,
   "id": "14d4935f",
   "metadata": {},
   "outputs": [
    {
     "data": {
      "image/png": "[encoded data removed]",
      "text/plain": [
       "<Figure size 3600x2880 with 6 Axes>"
      ]
     },
     "metadata": {
      "needs_background": "light"
     },
     "output_type": "display_data"
    }
   ],
   "source": [
    "a=df1_numerical.hist(figsize=(50,40))"
   ]
  },
  {
   "cell_type": "markdown",
   "id": "58b1b123",
   "metadata": {},
   "source": [
    "<b> Passenger Count"
   ]
  },
  {
   "cell_type": "code",
   "execution_count": 15,
   "id": "cd963298",
   "metadata": {},
   "outputs": [
    {
     "data": {
      "text/plain": [
       "1    34808\n",
       "2     7386\n",
       "5     3453\n",
       "3     2183\n",
       "4     1016\n",
       "6      989\n",
       "0      165\n",
       "Name: passe, dtype: int64"
      ]
     },
     "execution_count": 15,
     "metadata": {},
     "output_type": "execute_result"
    }
   ],
   "source": [
    "d1 = df1['passe'].value_counts()\n",
    "d1"
   ]
  },
  {
   "cell_type": "code",
   "execution_count": 16,
   "id": "8c90958d",
   "metadata": {
    "scrolled": true
   },
   "outputs": [
    {
     "data": {
      "image/png": "[encoded data removed]",
      "text/plain": [
       "<Figure size 432x288 with 1 Axes>"
      ]
     },
     "metadata": {
      "needs_background": "light"
     },
     "output_type": "display_data"
    }
   ],
   "source": [
    "sns.countplot(x=df1['passe'])\n",
    "plt.show()"
   ]
  },
  {
   "cell_type": "markdown",
   "id": "8d761300",
   "metadata": {},
   "source": [
    "#### Inference\n",
    "- 165 rides have 0 passengers\n",
    "- About 70% rides have solo passengers"
   ]
  },
  {
   "cell_type": "markdown",
   "id": "9bde1ae3",
   "metadata": {},
   "source": [
    "<b> Correlation"
   ]
  },
  {
   "cell_type": "code",
   "execution_count": 17,
   "id": "de6877d8",
   "metadata": {},
   "outputs": [
    {
     "data": {
      "image/png": "[encoded data removed]",
      "text/plain": [
       "<Figure size 576x504 with 2 Axes>"
      ]
     },
     "metadata": {
      "needs_background": "light"
     },
     "output_type": "display_data"
    }
   ],
   "source": [
    "corr = df1.corr()\n",
    "plt.figure(figsize=(8,7))\n",
    "sns.heatmap(corr,annot=True)\n",
    "plt.show()"
   ]
  },
  {
   "cell_type": "markdown",
   "id": "892f6d4b",
   "metadata": {},
   "source": [
    "- There is high correlation between columns ."
   ]
  },
  {
   "cell_type": "markdown",
   "id": "ea67677f",
   "metadata": {},
   "source": [
    "<b> Fare"
   ]
  },
  {
   "cell_type": "code",
   "execution_count": 18,
   "id": "c7997f0d",
   "metadata": {},
   "outputs": [
    {
     "data": {
      "image/png": "[encoded data removed]",
      "text/plain": [
       "<Figure size 432x288 with 1 Axes>"
      ]
     },
     "metadata": {
      "needs_background": "light"
     },
     "output_type": "display_data"
    }
   ],
   "source": [
    "sns.distplot(x=df1['fare'])\n",
    "plt.show()"
   ]
  },
  {
   "cell_type": "code",
   "execution_count": 19,
   "id": "c3cd71cc",
   "metadata": {},
   "outputs": [
    {
     "data": {
      "text/plain": [
       "count    50000.000000\n",
       "mean        11.364171\n",
       "std          9.685557\n",
       "min         -5.000000\n",
       "1%           3.300000\n",
       "2%           3.500000\n",
       "50%          8.500000\n",
       "98%         46.500000\n",
       "99%         52.000000\n",
       "max        200.000000\n",
       "Name: fare, dtype: float64"
      ]
     },
     "execution_count": 19,
     "metadata": {},
     "output_type": "execute_result"
    }
   ],
   "source": [
    "df1['fare'].describe(percentiles=[0.01,0.02,0.98,0.99])"
   ]
  },
  {
   "cell_type": "code",
   "execution_count": 20,
   "id": "c224eb6a",
   "metadata": {},
   "outputs": [
    {
     "name": "stdout",
     "output_type": "stream",
     "text": [
      "(415, 8)\n",
      "(498, 8)\n"
     ]
    }
   ],
   "source": [
    "print(df1[df1['fare']<3.3].shape)\n",
    "print(df1[df1['fare']>52].shape)"
   ]
  },
  {
   "cell_type": "markdown",
   "id": "b27419d2",
   "metadata": {},
   "source": [
    "###  Handling Outliers"
   ]
  },
  {
   "cell_type": "markdown",
   "id": "1d2519dd",
   "metadata": {},
   "source": [
    "<b> Fare"
   ]
  },
  {
   "cell_type": "code",
   "execution_count": 21,
   "id": "a0908044",
   "metadata": {},
   "outputs": [
    {
     "data": {
      "text/plain": [
       "count    50000.000000\n",
       "mean        11.258561\n",
       "std          8.971459\n",
       "min          3.300000\n",
       "1%           3.300000\n",
       "2%           3.500000\n",
       "50%          8.500000\n",
       "98%         46.500000\n",
       "99%         52.000000\n",
       "max         52.000000\n",
       "Name: fare, dtype: float64"
      ]
     },
     "execution_count": 21,
     "metadata": {},
     "output_type": "execute_result"
    }
   ],
   "source": [
    "df1['fare'] = np.where(df1['fare']<3.30,3.30,df1['fare'])\n",
    "df1['fare'] = np.where(df1['fare']>52.0,52.0,df1['fare'])\n",
    "df1['fare'].describe(percentiles=[0.01,0.02,0.98,0.99])"
   ]
  },
  {
   "cell_type": "markdown",
   "id": "bac80ded",
   "metadata": {},
   "source": [
    "### Notes\n",
    "- Latitude ranges from -90 to 90\n",
    "- Longitude ranges from -180 to 180"
   ]
  },
  {
   "cell_type": "code",
   "execution_count": 22,
   "id": "db464bee",
   "metadata": {},
   "outputs": [
    {
     "data": {
      "text/plain": [
       "Index(['uid', 'fare', 'pickup_dt', 'long_pickup', 'lat_pickup', 'long_drop',\n",
       "       'lat_drop', 'passe'],\n",
       "      dtype='object')"
      ]
     },
     "execution_count": 22,
     "metadata": {},
     "output_type": "execute_result"
    }
   ],
   "source": [
    "df1.columns"
   ]
  },
  {
   "cell_type": "markdown",
   "id": "3ca8f9fa",
   "metadata": {},
   "source": [
    "#### Longitude"
   ]
  },
  {
   "cell_type": "code",
   "execution_count": 23,
   "id": "fa15d30f",
   "metadata": {},
   "outputs": [
    {
     "name": "stdout",
     "output_type": "stream",
     "text": [
      "(0, 8)\n",
      "(0, 8)\n",
      "(0, 8)\n",
      "(0, 8)\n"
     ]
    }
   ],
   "source": [
    "print(df1[df1['long_pickup']<-180].shape)\n",
    "print(df1[df1['long_pickup']>180].shape)\n",
    "\n",
    "print(df1[df1['long_drop']<-180].shape)\n",
    "print(df1[df1['long_drop']>180].shape)"
   ]
  },
  {
   "cell_type": "markdown",
   "id": "f45741b1",
   "metadata": {},
   "source": [
    "#### Latitude"
   ]
  },
  {
   "cell_type": "code",
   "execution_count": 24,
   "id": "6d63a691",
   "metadata": {},
   "outputs": [
    {
     "name": "stdout",
     "output_type": "stream",
     "text": [
      "(0, 8)\n",
      "(1, 8)\n",
      "(0, 8)\n",
      "(0, 8)\n"
     ]
    }
   ],
   "source": [
    "print(df1[df1['lat_pickup']<-90].shape)\n",
    "print(df1[df1['lat_pickup']>90].shape)\n",
    "\n",
    "print(df1[df1['lat_drop']<-90].shape)\n",
    "print(df1[df1['lat_drop']>90].shape)"
   ]
  },
  {
   "cell_type": "code",
   "execution_count": 25,
   "id": "f6eb1081",
   "metadata": {},
   "outputs": [],
   "source": [
    "df1.drop(df1[df1['lat_pickup']>90].index,axis=0,inplace=True)"
   ]
  },
  {
   "cell_type": "code",
   "execution_count": 26,
   "id": "a17579ff",
   "metadata": {},
   "outputs": [
    {
     "data": {
      "text/plain": [
       "(49999, 8)"
      ]
     },
     "execution_count": 26,
     "metadata": {},
     "output_type": "execute_result"
    }
   ],
   "source": [
    "df1.shape"
   ]
  },
  {
   "cell_type": "code",
   "execution_count": 27,
   "id": "cdd813fe",
   "metadata": {},
   "outputs": [
    {
     "data": {
      "text/html": [
       "<div>\n",
       "<style scoped>\n",
       "    .dataframe tbody tr th:only-of-type {\n",
       "        vertical-align: middle;\n",
       "    }\n",
       "\n",
       "    .dataframe tbody tr th {\n",
       "        vertical-align: top;\n",
       "    }\n",
       "\n",
       "    .dataframe thead th {\n",
       "        text-align: right;\n",
       "    }\n",
       "</style>\n",
       "<table border=\"1\" class=\"dataframe\">\n",
       "  <thead>\n",
       "    <tr style=\"text-align: right;\">\n",
       "      <th></th>\n",
       "      <th>long_pickup</th>\n",
       "      <th>long_drop</th>\n",
       "      <th>lat_pickup</th>\n",
       "      <th>lat_drop</th>\n",
       "    </tr>\n",
       "  </thead>\n",
       "  <tbody>\n",
       "    <tr>\n",
       "      <th>count</th>\n",
       "      <td>49999.000000</td>\n",
       "      <td>49999.000000</td>\n",
       "      <td>49999.000000</td>\n",
       "      <td>49999.000000</td>\n",
       "    </tr>\n",
       "    <tr>\n",
       "      <th>mean</th>\n",
       "      <td>-72.509727</td>\n",
       "      <td>-72.504587</td>\n",
       "      <td>39.926536</td>\n",
       "      <td>39.926234</td>\n",
       "    </tr>\n",
       "    <tr>\n",
       "      <th>std</th>\n",
       "      <td>10.393962</td>\n",
       "      <td>10.407672</td>\n",
       "      <td>6.011729</td>\n",
       "      <td>6.014796</td>\n",
       "    </tr>\n",
       "    <tr>\n",
       "      <th>min</th>\n",
       "      <td>-75.423848</td>\n",
       "      <td>-84.654241</td>\n",
       "      <td>-74.006893</td>\n",
       "      <td>-74.006377</td>\n",
       "    </tr>\n",
       "    <tr>\n",
       "      <th>1%</th>\n",
       "      <td>-74.014444</td>\n",
       "      <td>-74.015120</td>\n",
       "      <td>0.000000</td>\n",
       "      <td>0.000000</td>\n",
       "    </tr>\n",
       "    <tr>\n",
       "      <th>2%</th>\n",
       "      <td>-74.010458</td>\n",
       "      <td>-74.011755</td>\n",
       "      <td>40.579934</td>\n",
       "      <td>40.564411</td>\n",
       "    </tr>\n",
       "    <tr>\n",
       "      <th>50%</th>\n",
       "      <td>-73.981840</td>\n",
       "      <td>-73.980083</td>\n",
       "      <td>40.752677</td>\n",
       "      <td>40.753371</td>\n",
       "    </tr>\n",
       "    <tr>\n",
       "      <th>98%</th>\n",
       "      <td>-73.137393</td>\n",
       "      <td>-73.422927</td>\n",
       "      <td>40.799637</td>\n",
       "      <td>40.810248</td>\n",
       "    </tr>\n",
       "    <tr>\n",
       "      <th>99%</th>\n",
       "      <td>0.000000</td>\n",
       "      <td>0.000000</td>\n",
       "      <td>40.807110</td>\n",
       "      <td>40.832502</td>\n",
       "    </tr>\n",
       "    <tr>\n",
       "      <th>max</th>\n",
       "      <td>40.783472</td>\n",
       "      <td>40.851027</td>\n",
       "      <td>43.098708</td>\n",
       "      <td>43.415190</td>\n",
       "    </tr>\n",
       "  </tbody>\n",
       "</table>\n",
       "</div>"
      ],
      "text/plain": [
       "        long_pickup     long_drop    lat_pickup      lat_drop\n",
       "count  49999.000000  49999.000000  49999.000000  49999.000000\n",
       "mean     -72.509727    -72.504587     39.926536     39.926234\n",
       "std       10.393962     10.407672      6.011729      6.014796\n",
       "min      -75.423848    -84.654241    -74.006893    -74.006377\n",
       "1%       -74.014444    -74.015120      0.000000      0.000000\n",
       "2%       -74.010458    -74.011755     40.579934     40.564411\n",
       "50%      -73.981840    -73.980083     40.752677     40.753371\n",
       "98%      -73.137393    -73.422927     40.799637     40.810248\n",
       "99%        0.000000      0.000000     40.807110     40.832502\n",
       "max       40.783472     40.851027     43.098708     43.415190"
      ]
     },
     "execution_count": 27,
     "metadata": {},
     "output_type": "execute_result"
    }
   ],
   "source": [
    "df1[['long_pickup','long_drop','lat_pickup','lat_drop']].describe(percentiles=[0.98,0.99,0.01,0.02])"
   ]
  },
  {
   "cell_type": "markdown",
   "id": "b89f7c21",
   "metadata": {},
   "source": [
    "### Co-ordinates of New York\n",
    "40.7128° N, 74.0060° W\n",
    "- Latitude\t40.730610\n",
    "- Longitude\t-73.935242"
   ]
  },
  {
   "cell_type": "code",
   "execution_count": 28,
   "id": "91390687",
   "metadata": {},
   "outputs": [
    {
     "data": {
      "image/png": "[encoded data removed]",
      "text/plain": [
       "<Figure size 432x288 with 1 Axes>"
      ]
     },
     "metadata": {
      "needs_background": "light"
     },
     "output_type": "display_data"
    }
   ],
   "source": [
    "sns.distplot(df1['lat_pickup'])\n",
    "plt.show()"
   ]
  },
  {
   "cell_type": "code",
   "execution_count": 29,
   "id": "43d9fe11",
   "metadata": {},
   "outputs": [],
   "source": [
    "coor_cols=['long_pickup','long_drop','lat_pickup','lat_drop']"
   ]
  },
  {
   "cell_type": "code",
   "execution_count": 30,
   "id": "e2d0690c",
   "metadata": {},
   "outputs": [
    {
     "data": {
      "image/png": "[encoded data removed]",
      "text/plain": [
       "<Figure size 432x288 with 1 Axes>"
      ]
     },
     "metadata": {
      "needs_background": "light"
     },
     "output_type": "display_data"
    },
    {
     "data": {
      "image/png": "[encoded data removed]",
      "text/plain": [
       "<Figure size 432x288 with 1 Axes>"
      ]
     },
     "metadata": {
      "needs_background": "light"
     },
     "output_type": "display_data"
    },
    {
     "data": {
      "image/png": "[encoded data removed]",
      "text/plain": [
       "<Figure size 432x288 with 1 Axes>"
      ]
     },
     "metadata": {
      "needs_background": "light"
     },
     "output_type": "display_data"
    },
    {
     "data": {
      "image/png": "[encoded data removed]",
      "text/plain": [
       "<Figure size 432x288 with 1 Axes>"
      ]
     },
     "metadata": {
      "needs_background": "light"
     },
     "output_type": "display_data"
    }
   ],
   "source": [
    "for i in coor_cols:\n",
    "    sns.distplot(x=df1[i])\n",
    "    plt.show()"
   ]
  },
  {
   "cell_type": "code",
   "execution_count": 31,
   "id": "55300aeb",
   "metadata": {},
   "outputs": [
    {
     "data": {
      "image/png": "[encoded data removed]",
      "text/plain": [
       "<Figure size 432x288 with 1 Axes>"
      ]
     },
     "metadata": {
      "needs_background": "light"
     },
     "output_type": "display_data"
    }
   ],
   "source": [
    "plt.scatter(df1['lat_pickup'],df1['long_pickup'])\n",
    "plt.show()"
   ]
  },
  {
   "cell_type": "code",
   "execution_count": 32,
   "id": "26d8505e",
   "metadata": {},
   "outputs": [
    {
     "data": {
      "image/png": "[encoded data removed]",
      "text/plain": [
       "<Figure size 432x288 with 1 Axes>"
      ]
     },
     "metadata": {
      "needs_background": "light"
     },
     "output_type": "display_data"
    }
   ],
   "source": [
    "plt.scatter(df1['lat_drop'],df1['long_drop'])\n",
    "plt.show()"
   ]
  },
  {
   "cell_type": "markdown",
   "id": "13d0dbae",
   "metadata": {},
   "source": [
    "#### Note\n",
    "Minkowski's distance = (|x2-x1|^p + |y2-y1|^p)^(1/p) <br>\n",
    "for p=2 => Eucliden Dist (x1,y1),(x2,y2) = sqrt((x2-x1)^2 + (y2-y1)^2) <br>\n",
    "for p=1 => Manhattan Dist (x1,y1),(x2,y2) = |x2-x1| + |y2-y1|"
   ]
  },
  {
   "cell_type": "code",
   "execution_count": 33,
   "id": "4edb04dd",
   "metadata": {},
   "outputs": [],
   "source": [
    "def minkowski(x1,x2,y1,y2,p):\n",
    "    min_dist=(abs(x2-x1)**p + abs(y2-y1)**p)**(1/p)\n",
    "    return min_dist"
   ]
  },
  {
   "cell_type": "code",
   "execution_count": 34,
   "id": "d50ccf0c",
   "metadata": {},
   "outputs": [],
   "source": [
    "df1['Euclid_dist']=minkowski(df1['lat_drop'],df1['lat_pickup'],df1['long_drop'],df1['long_pickup'],2)\n",
    "df1['Manhattan_dist']=minkowski(df1['lat_drop'],df1['lat_pickup'],df1['long_drop'],df1['long_pickup'],1)"
   ]
  },
  {
   "cell_type": "code",
   "execution_count": 35,
   "id": "35b13a79",
   "metadata": {},
   "outputs": [
    {
     "data": {
      "text/html": [
       "<div>\n",
       "<style scoped>\n",
       "    .dataframe tbody tr th:only-of-type {\n",
       "        vertical-align: middle;\n",
       "    }\n",
       "\n",
       "    .dataframe tbody tr th {\n",
       "        vertical-align: top;\n",
       "    }\n",
       "\n",
       "    .dataframe thead th {\n",
       "        text-align: right;\n",
       "    }\n",
       "</style>\n",
       "<table border=\"1\" class=\"dataframe\">\n",
       "  <thead>\n",
       "    <tr style=\"text-align: right;\">\n",
       "      <th></th>\n",
       "      <th>uid</th>\n",
       "      <th>fare</th>\n",
       "      <th>pickup_dt</th>\n",
       "      <th>long_pickup</th>\n",
       "      <th>lat_pickup</th>\n",
       "      <th>long_drop</th>\n",
       "      <th>lat_drop</th>\n",
       "      <th>passe</th>\n",
       "      <th>Euclid_dist</th>\n",
       "      <th>Manhattan_dist</th>\n",
       "    </tr>\n",
       "  </thead>\n",
       "  <tbody>\n",
       "    <tr>\n",
       "      <th>0</th>\n",
       "      <td>26:21.0</td>\n",
       "      <td>4.5</td>\n",
       "      <td>2009-06-15 17:26:21+00:00</td>\n",
       "      <td>-73.844311</td>\n",
       "      <td>40.721319</td>\n",
       "      <td>-73.841610</td>\n",
       "      <td>40.712278</td>\n",
       "      <td>1</td>\n",
       "      <td>0.009436</td>\n",
       "      <td>0.011742</td>\n",
       "    </tr>\n",
       "    <tr>\n",
       "      <th>1</th>\n",
       "      <td>52:16.0</td>\n",
       "      <td>16.9</td>\n",
       "      <td>2010-01-05 16:52:16+00:00</td>\n",
       "      <td>-74.016048</td>\n",
       "      <td>40.711303</td>\n",
       "      <td>-73.979268</td>\n",
       "      <td>40.782004</td>\n",
       "      <td>1</td>\n",
       "      <td>0.079696</td>\n",
       "      <td>0.107481</td>\n",
       "    </tr>\n",
       "    <tr>\n",
       "      <th>2</th>\n",
       "      <td>35:00.0</td>\n",
       "      <td>5.7</td>\n",
       "      <td>2011-08-18 00:35:00+00:00</td>\n",
       "      <td>-73.982738</td>\n",
       "      <td>40.761270</td>\n",
       "      <td>-73.991242</td>\n",
       "      <td>40.750562</td>\n",
       "      <td>2</td>\n",
       "      <td>0.013674</td>\n",
       "      <td>0.019212</td>\n",
       "    </tr>\n",
       "    <tr>\n",
       "      <th>3</th>\n",
       "      <td>30:42.0</td>\n",
       "      <td>7.7</td>\n",
       "      <td>2012-04-21 04:30:42+00:00</td>\n",
       "      <td>-73.987130</td>\n",
       "      <td>40.733143</td>\n",
       "      <td>-73.991567</td>\n",
       "      <td>40.758092</td>\n",
       "      <td>1</td>\n",
       "      <td>0.025340</td>\n",
       "      <td>0.029386</td>\n",
       "    </tr>\n",
       "    <tr>\n",
       "      <th>4</th>\n",
       "      <td>51:00.0</td>\n",
       "      <td>5.3</td>\n",
       "      <td>2010-03-09 07:51:00+00:00</td>\n",
       "      <td>-73.968095</td>\n",
       "      <td>40.768008</td>\n",
       "      <td>-73.956655</td>\n",
       "      <td>40.783762</td>\n",
       "      <td>1</td>\n",
       "      <td>0.019470</td>\n",
       "      <td>0.027194</td>\n",
       "    </tr>\n",
       "  </tbody>\n",
       "</table>\n",
       "</div>"
      ],
      "text/plain": [
       "       uid  fare                 pickup_dt  long_pickup  lat_pickup  \\\n",
       "0  26:21.0   4.5 2009-06-15 17:26:21+00:00   -73.844311   40.721319   \n",
       "1  52:16.0  16.9 2010-01-05 16:52:16+00:00   -74.016048   40.711303   \n",
       "2  35:00.0   5.7 2011-08-18 00:35:00+00:00   -73.982738   40.761270   \n",
       "3  30:42.0   7.7 2012-04-21 04:30:42+00:00   -73.987130   40.733143   \n",
       "4  51:00.0   5.3 2010-03-09 07:51:00+00:00   -73.968095   40.768008   \n",
       "\n",
       "   long_drop   lat_drop  passe  Euclid_dist  Manhattan_dist  \n",
       "0 -73.841610  40.712278      1     0.009436        0.011742  \n",
       "1 -73.979268  40.782004      1     0.079696        0.107481  \n",
       "2 -73.991242  40.750562      2     0.013674        0.019212  \n",
       "3 -73.991567  40.758092      1     0.025340        0.029386  \n",
       "4 -73.956655  40.783762      1     0.019470        0.027194  "
      ]
     },
     "execution_count": 35,
     "metadata": {},
     "output_type": "execute_result"
    }
   ],
   "source": [
    "df1.head()"
   ]
  },
  {
   "cell_type": "markdown",
   "id": "1c62e74c",
   "metadata": {},
   "source": [
    "### Haversine Distance\n",
    "We can calulate the distance in a sphere when latitudes and longitudes are given by Haversine formula\n",
    "\n",
    "haversine(θ) = sin²(θ/2)\n",
    "\n",
    "Eventually, the formual boils down to the following where φ is latitude, λ is longitude, R is earth’s radius (mean radius = 6,371km) to include latitude and longitude coordinates (A and B in this case). Latitude and longitude are measured in radians\n",
    "\n",
    "a = sin²((φB - φA)/2) + cos φA . cos φB . sin²((λB - λA)/2)\n",
    "\n",
    "c = 2 * atan2( √a, √(1−a) )\n",
    "\n",
    "d = R ⋅ c\n",
    "\n",
    "d = Haversine distance"
   ]
  },
  {
   "cell_type": "code",
   "execution_count": 36,
   "id": "923de529",
   "metadata": {},
   "outputs": [],
   "source": [
    "def haversine_np(lon1, lat1, lon2, lat2):\n",
    "\n",
    "    lon1, lat1, lon2, lat2 = map(np.radians, [lon1, lat1, lon2, lat2])\n",
    "\n",
    "    dlon = lon2 - lon1\n",
    "    dlat = lat2 - lat1\n",
    "\n",
    "    a = np.sin(dlat/2.0)**2 + np.cos(lat1) * np.cos(lat2) * np.sin(dlon/2.0)**2\n",
    "\n",
    "    c = 2 * np.arcsin(np.sqrt(a))\n",
    "    km = 6371 * c\n",
    "    return km"
   ]
  },
  {
   "cell_type": "code",
   "execution_count": 37,
   "id": "9fc0a705",
   "metadata": {},
   "outputs": [],
   "source": [
    "df1['haversine_dist']=haversine_np(df1['long_pickup'],df1['lat_pickup'],df1['long_drop'],df1['lat_drop'])"
   ]
  },
  {
   "cell_type": "code",
   "execution_count": 38,
   "id": "4793aa3e",
   "metadata": {},
   "outputs": [
    {
     "data": {
      "text/html": [
       "<div>\n",
       "<style scoped>\n",
       "    .dataframe tbody tr th:only-of-type {\n",
       "        vertical-align: middle;\n",
       "    }\n",
       "\n",
       "    .dataframe tbody tr th {\n",
       "        vertical-align: top;\n",
       "    }\n",
       "\n",
       "    .dataframe thead th {\n",
       "        text-align: right;\n",
       "    }\n",
       "</style>\n",
       "<table border=\"1\" class=\"dataframe\">\n",
       "  <thead>\n",
       "    <tr style=\"text-align: right;\">\n",
       "      <th></th>\n",
       "      <th>uid</th>\n",
       "      <th>fare</th>\n",
       "      <th>pickup_dt</th>\n",
       "      <th>long_pickup</th>\n",
       "      <th>lat_pickup</th>\n",
       "      <th>long_drop</th>\n",
       "      <th>lat_drop</th>\n",
       "      <th>passe</th>\n",
       "      <th>Euclid_dist</th>\n",
       "      <th>Manhattan_dist</th>\n",
       "      <th>haversine_dist</th>\n",
       "    </tr>\n",
       "  </thead>\n",
       "  <tbody>\n",
       "    <tr>\n",
       "      <th>0</th>\n",
       "      <td>26:21.0</td>\n",
       "      <td>4.5</td>\n",
       "      <td>2009-06-15 17:26:21+00:00</td>\n",
       "      <td>-73.844311</td>\n",
       "      <td>40.721319</td>\n",
       "      <td>-73.841610</td>\n",
       "      <td>40.712278</td>\n",
       "      <td>1</td>\n",
       "      <td>0.009436</td>\n",
       "      <td>0.011742</td>\n",
       "      <td>1.030764</td>\n",
       "    </tr>\n",
       "    <tr>\n",
       "      <th>1</th>\n",
       "      <td>52:16.0</td>\n",
       "      <td>16.9</td>\n",
       "      <td>2010-01-05 16:52:16+00:00</td>\n",
       "      <td>-74.016048</td>\n",
       "      <td>40.711303</td>\n",
       "      <td>-73.979268</td>\n",
       "      <td>40.782004</td>\n",
       "      <td>1</td>\n",
       "      <td>0.079696</td>\n",
       "      <td>0.107481</td>\n",
       "      <td>8.450134</td>\n",
       "    </tr>\n",
       "    <tr>\n",
       "      <th>2</th>\n",
       "      <td>35:00.0</td>\n",
       "      <td>5.7</td>\n",
       "      <td>2011-08-18 00:35:00+00:00</td>\n",
       "      <td>-73.982738</td>\n",
       "      <td>40.761270</td>\n",
       "      <td>-73.991242</td>\n",
       "      <td>40.750562</td>\n",
       "      <td>2</td>\n",
       "      <td>0.013674</td>\n",
       "      <td>0.019212</td>\n",
       "      <td>1.389525</td>\n",
       "    </tr>\n",
       "    <tr>\n",
       "      <th>3</th>\n",
       "      <td>30:42.0</td>\n",
       "      <td>7.7</td>\n",
       "      <td>2012-04-21 04:30:42+00:00</td>\n",
       "      <td>-73.987130</td>\n",
       "      <td>40.733143</td>\n",
       "      <td>-73.991567</td>\n",
       "      <td>40.758092</td>\n",
       "      <td>1</td>\n",
       "      <td>0.025340</td>\n",
       "      <td>0.029386</td>\n",
       "      <td>2.799270</td>\n",
       "    </tr>\n",
       "    <tr>\n",
       "      <th>4</th>\n",
       "      <td>51:00.0</td>\n",
       "      <td>5.3</td>\n",
       "      <td>2010-03-09 07:51:00+00:00</td>\n",
       "      <td>-73.968095</td>\n",
       "      <td>40.768008</td>\n",
       "      <td>-73.956655</td>\n",
       "      <td>40.783762</td>\n",
       "      <td>1</td>\n",
       "      <td>0.019470</td>\n",
       "      <td>0.027194</td>\n",
       "      <td>1.999157</td>\n",
       "    </tr>\n",
       "  </tbody>\n",
       "</table>\n",
       "</div>"
      ],
      "text/plain": [
       "       uid  fare                 pickup_dt  long_pickup  lat_pickup  \\\n",
       "0  26:21.0   4.5 2009-06-15 17:26:21+00:00   -73.844311   40.721319   \n",
       "1  52:16.0  16.9 2010-01-05 16:52:16+00:00   -74.016048   40.711303   \n",
       "2  35:00.0   5.7 2011-08-18 00:35:00+00:00   -73.982738   40.761270   \n",
       "3  30:42.0   7.7 2012-04-21 04:30:42+00:00   -73.987130   40.733143   \n",
       "4  51:00.0   5.3 2010-03-09 07:51:00+00:00   -73.968095   40.768008   \n",
       "\n",
       "   long_drop   lat_drop  passe  Euclid_dist  Manhattan_dist  haversine_dist  \n",
       "0 -73.841610  40.712278      1     0.009436        0.011742        1.030764  \n",
       "1 -73.979268  40.782004      1     0.079696        0.107481        8.450134  \n",
       "2 -73.991242  40.750562      2     0.013674        0.019212        1.389525  \n",
       "3 -73.991567  40.758092      1     0.025340        0.029386        2.799270  \n",
       "4 -73.956655  40.783762      1     0.019470        0.027194        1.999157  "
      ]
     },
     "execution_count": 38,
     "metadata": {},
     "output_type": "execute_result"
    }
   ],
   "source": [
    "df1.head()"
   ]
  },
  {
   "cell_type": "code",
   "execution_count": 39,
   "id": "7e036322",
   "metadata": {},
   "outputs": [],
   "source": [
    "df1['abs_diff_long']=abs(df1['long_drop']-df1['long_pickup'])\n",
    "df1['abs_diff_lat']=abs(df1['lat_drop']-df1['lat_pickup'])"
   ]
  },
  {
   "cell_type": "code",
   "execution_count": 40,
   "id": "b0985291",
   "metadata": {},
   "outputs": [
    {
     "data": {
      "text/html": [
       "<div>\n",
       "<style scoped>\n",
       "    .dataframe tbody tr th:only-of-type {\n",
       "        vertical-align: middle;\n",
       "    }\n",
       "\n",
       "    .dataframe tbody tr th {\n",
       "        vertical-align: top;\n",
       "    }\n",
       "\n",
       "    .dataframe thead th {\n",
       "        text-align: right;\n",
       "    }\n",
       "</style>\n",
       "<table border=\"1\" class=\"dataframe\">\n",
       "  <thead>\n",
       "    <tr style=\"text-align: right;\">\n",
       "      <th></th>\n",
       "      <th>uid</th>\n",
       "      <th>fare</th>\n",
       "      <th>pickup_dt</th>\n",
       "      <th>long_pickup</th>\n",
       "      <th>lat_pickup</th>\n",
       "      <th>long_drop</th>\n",
       "      <th>lat_drop</th>\n",
       "      <th>passe</th>\n",
       "      <th>Euclid_dist</th>\n",
       "      <th>Manhattan_dist</th>\n",
       "      <th>haversine_dist</th>\n",
       "      <th>abs_diff_long</th>\n",
       "      <th>abs_diff_lat</th>\n",
       "    </tr>\n",
       "  </thead>\n",
       "  <tbody>\n",
       "    <tr>\n",
       "      <th>0</th>\n",
       "      <td>26:21.0</td>\n",
       "      <td>4.5</td>\n",
       "      <td>2009-06-15 17:26:21+00:00</td>\n",
       "      <td>-73.844311</td>\n",
       "      <td>40.721319</td>\n",
       "      <td>-73.841610</td>\n",
       "      <td>40.712278</td>\n",
       "      <td>1</td>\n",
       "      <td>0.009436</td>\n",
       "      <td>0.011742</td>\n",
       "      <td>1.030764</td>\n",
       "      <td>0.002701</td>\n",
       "      <td>0.009041</td>\n",
       "    </tr>\n",
       "    <tr>\n",
       "      <th>1</th>\n",
       "      <td>52:16.0</td>\n",
       "      <td>16.9</td>\n",
       "      <td>2010-01-05 16:52:16+00:00</td>\n",
       "      <td>-74.016048</td>\n",
       "      <td>40.711303</td>\n",
       "      <td>-73.979268</td>\n",
       "      <td>40.782004</td>\n",
       "      <td>1</td>\n",
       "      <td>0.079696</td>\n",
       "      <td>0.107481</td>\n",
       "      <td>8.450134</td>\n",
       "      <td>0.036780</td>\n",
       "      <td>0.070701</td>\n",
       "    </tr>\n",
       "    <tr>\n",
       "      <th>2</th>\n",
       "      <td>35:00.0</td>\n",
       "      <td>5.7</td>\n",
       "      <td>2011-08-18 00:35:00+00:00</td>\n",
       "      <td>-73.982738</td>\n",
       "      <td>40.761270</td>\n",
       "      <td>-73.991242</td>\n",
       "      <td>40.750562</td>\n",
       "      <td>2</td>\n",
       "      <td>0.013674</td>\n",
       "      <td>0.019212</td>\n",
       "      <td>1.389525</td>\n",
       "      <td>0.008504</td>\n",
       "      <td>0.010708</td>\n",
       "    </tr>\n",
       "    <tr>\n",
       "      <th>3</th>\n",
       "      <td>30:42.0</td>\n",
       "      <td>7.7</td>\n",
       "      <td>2012-04-21 04:30:42+00:00</td>\n",
       "      <td>-73.987130</td>\n",
       "      <td>40.733143</td>\n",
       "      <td>-73.991567</td>\n",
       "      <td>40.758092</td>\n",
       "      <td>1</td>\n",
       "      <td>0.025340</td>\n",
       "      <td>0.029386</td>\n",
       "      <td>2.799270</td>\n",
       "      <td>0.004437</td>\n",
       "      <td>0.024949</td>\n",
       "    </tr>\n",
       "    <tr>\n",
       "      <th>4</th>\n",
       "      <td>51:00.0</td>\n",
       "      <td>5.3</td>\n",
       "      <td>2010-03-09 07:51:00+00:00</td>\n",
       "      <td>-73.968095</td>\n",
       "      <td>40.768008</td>\n",
       "      <td>-73.956655</td>\n",
       "      <td>40.783762</td>\n",
       "      <td>1</td>\n",
       "      <td>0.019470</td>\n",
       "      <td>0.027194</td>\n",
       "      <td>1.999157</td>\n",
       "      <td>0.011440</td>\n",
       "      <td>0.015754</td>\n",
       "    </tr>\n",
       "  </tbody>\n",
       "</table>\n",
       "</div>"
      ],
      "text/plain": [
       "       uid  fare                 pickup_dt  long_pickup  lat_pickup  \\\n",
       "0  26:21.0   4.5 2009-06-15 17:26:21+00:00   -73.844311   40.721319   \n",
       "1  52:16.0  16.9 2010-01-05 16:52:16+00:00   -74.016048   40.711303   \n",
       "2  35:00.0   5.7 2011-08-18 00:35:00+00:00   -73.982738   40.761270   \n",
       "3  30:42.0   7.7 2012-04-21 04:30:42+00:00   -73.987130   40.733143   \n",
       "4  51:00.0   5.3 2010-03-09 07:51:00+00:00   -73.968095   40.768008   \n",
       "\n",
       "   long_drop   lat_drop  passe  Euclid_dist  Manhattan_dist  haversine_dist  \\\n",
       "0 -73.841610  40.712278      1     0.009436        0.011742        1.030764   \n",
       "1 -73.979268  40.782004      1     0.079696        0.107481        8.450134   \n",
       "2 -73.991242  40.750562      2     0.013674        0.019212        1.389525   \n",
       "3 -73.991567  40.758092      1     0.025340        0.029386        2.799270   \n",
       "4 -73.956655  40.783762      1     0.019470        0.027194        1.999157   \n",
       "\n",
       "   abs_diff_long  abs_diff_lat  \n",
       "0       0.002701      0.009041  \n",
       "1       0.036780      0.070701  \n",
       "2       0.008504      0.010708  \n",
       "3       0.004437      0.024949  \n",
       "4       0.011440      0.015754  "
      ]
     },
     "execution_count": 40,
     "metadata": {},
     "output_type": "execute_result"
    }
   ],
   "source": [
    "df1.head()"
   ]
  },
  {
   "cell_type": "code",
   "execution_count": 41,
   "id": "99cdb364",
   "metadata": {},
   "outputs": [
    {
     "data": {
      "text/html": [
       "<div>\n",
       "<style scoped>\n",
       "    .dataframe tbody tr th:only-of-type {\n",
       "        vertical-align: middle;\n",
       "    }\n",
       "\n",
       "    .dataframe tbody tr th {\n",
       "        vertical-align: top;\n",
       "    }\n",
       "\n",
       "    .dataframe thead th {\n",
       "        text-align: right;\n",
       "    }\n",
       "</style>\n",
       "<table border=\"1\" class=\"dataframe\">\n",
       "  <thead>\n",
       "    <tr style=\"text-align: right;\">\n",
       "      <th></th>\n",
       "      <th>uid</th>\n",
       "      <th>fare</th>\n",
       "      <th>pickup_dt</th>\n",
       "      <th>long_pickup</th>\n",
       "      <th>lat_pickup</th>\n",
       "      <th>long_drop</th>\n",
       "      <th>lat_drop</th>\n",
       "      <th>passe</th>\n",
       "      <th>Euclid_dist</th>\n",
       "      <th>Manhattan_dist</th>\n",
       "      <th>haversine_dist</th>\n",
       "      <th>abs_diff_long</th>\n",
       "      <th>abs_diff_lat</th>\n",
       "      <th>fare_bin</th>\n",
       "    </tr>\n",
       "  </thead>\n",
       "  <tbody>\n",
       "    <tr>\n",
       "      <th>0</th>\n",
       "      <td>26:21.0</td>\n",
       "      <td>4.5</td>\n",
       "      <td>2009-06-15 17:26:21+00:00</td>\n",
       "      <td>-73.844311</td>\n",
       "      <td>40.721319</td>\n",
       "      <td>-73.841610</td>\n",
       "      <td>40.712278</td>\n",
       "      <td>1</td>\n",
       "      <td>0.009436</td>\n",
       "      <td>0.011742</td>\n",
       "      <td>1.030764</td>\n",
       "      <td>0.002701</td>\n",
       "      <td>0.009041</td>\n",
       "      <td>(0, 5]</td>\n",
       "    </tr>\n",
       "    <tr>\n",
       "      <th>1</th>\n",
       "      <td>52:16.0</td>\n",
       "      <td>16.9</td>\n",
       "      <td>2010-01-05 16:52:16+00:00</td>\n",
       "      <td>-74.016048</td>\n",
       "      <td>40.711303</td>\n",
       "      <td>-73.979268</td>\n",
       "      <td>40.782004</td>\n",
       "      <td>1</td>\n",
       "      <td>0.079696</td>\n",
       "      <td>0.107481</td>\n",
       "      <td>8.450134</td>\n",
       "      <td>0.036780</td>\n",
       "      <td>0.070701</td>\n",
       "      <td>(15, 20]</td>\n",
       "    </tr>\n",
       "    <tr>\n",
       "      <th>2</th>\n",
       "      <td>35:00.0</td>\n",
       "      <td>5.7</td>\n",
       "      <td>2011-08-18 00:35:00+00:00</td>\n",
       "      <td>-73.982738</td>\n",
       "      <td>40.761270</td>\n",
       "      <td>-73.991242</td>\n",
       "      <td>40.750562</td>\n",
       "      <td>2</td>\n",
       "      <td>0.013674</td>\n",
       "      <td>0.019212</td>\n",
       "      <td>1.389525</td>\n",
       "      <td>0.008504</td>\n",
       "      <td>0.010708</td>\n",
       "      <td>(5, 10]</td>\n",
       "    </tr>\n",
       "    <tr>\n",
       "      <th>3</th>\n",
       "      <td>30:42.0</td>\n",
       "      <td>7.7</td>\n",
       "      <td>2012-04-21 04:30:42+00:00</td>\n",
       "      <td>-73.987130</td>\n",
       "      <td>40.733143</td>\n",
       "      <td>-73.991567</td>\n",
       "      <td>40.758092</td>\n",
       "      <td>1</td>\n",
       "      <td>0.025340</td>\n",
       "      <td>0.029386</td>\n",
       "      <td>2.799270</td>\n",
       "      <td>0.004437</td>\n",
       "      <td>0.024949</td>\n",
       "      <td>(5, 10]</td>\n",
       "    </tr>\n",
       "    <tr>\n",
       "      <th>4</th>\n",
       "      <td>51:00.0</td>\n",
       "      <td>5.3</td>\n",
       "      <td>2010-03-09 07:51:00+00:00</td>\n",
       "      <td>-73.968095</td>\n",
       "      <td>40.768008</td>\n",
       "      <td>-73.956655</td>\n",
       "      <td>40.783762</td>\n",
       "      <td>1</td>\n",
       "      <td>0.019470</td>\n",
       "      <td>0.027194</td>\n",
       "      <td>1.999157</td>\n",
       "      <td>0.011440</td>\n",
       "      <td>0.015754</td>\n",
       "      <td>(5, 10]</td>\n",
       "    </tr>\n",
       "  </tbody>\n",
       "</table>\n",
       "</div>"
      ],
      "text/plain": [
       "       uid  fare                 pickup_dt  long_pickup  lat_pickup  \\\n",
       "0  26:21.0   4.5 2009-06-15 17:26:21+00:00   -73.844311   40.721319   \n",
       "1  52:16.0  16.9 2010-01-05 16:52:16+00:00   -74.016048   40.711303   \n",
       "2  35:00.0   5.7 2011-08-18 00:35:00+00:00   -73.982738   40.761270   \n",
       "3  30:42.0   7.7 2012-04-21 04:30:42+00:00   -73.987130   40.733143   \n",
       "4  51:00.0   5.3 2010-03-09 07:51:00+00:00   -73.968095   40.768008   \n",
       "\n",
       "   long_drop   lat_drop  passe  Euclid_dist  Manhattan_dist  haversine_dist  \\\n",
       "0 -73.841610  40.712278      1     0.009436        0.011742        1.030764   \n",
       "1 -73.979268  40.782004      1     0.079696        0.107481        8.450134   \n",
       "2 -73.991242  40.750562      2     0.013674        0.019212        1.389525   \n",
       "3 -73.991567  40.758092      1     0.025340        0.029386        2.799270   \n",
       "4 -73.956655  40.783762      1     0.019470        0.027194        1.999157   \n",
       "\n",
       "   abs_diff_long  abs_diff_lat  fare_bin  \n",
       "0       0.002701      0.009041    (0, 5]  \n",
       "1       0.036780      0.070701  (15, 20]  \n",
       "2       0.008504      0.010708   (5, 10]  \n",
       "3       0.004437      0.024949   (5, 10]  \n",
       "4       0.011440      0.015754   (5, 10]  "
      ]
     },
     "execution_count": 41,
     "metadata": {},
     "output_type": "execute_result"
    }
   ],
   "source": [
    "df1['fare_bin']=pd.cut(df1['fare'],bins=list(range(0,60,5)))\n",
    "df1.head()"
   ]
  },
  {
   "cell_type": "code",
   "execution_count": 42,
   "id": "328492e9",
   "metadata": {},
   "outputs": [
    {
     "data": {
      "text/plain": [
       "(5, 10]     23437\n",
       "(10, 15]     9959\n",
       "(0, 5]       7703\n",
       "(15, 20]     3681\n",
       "(20, 25]     1643\n",
       "(25, 30]      995\n",
       "(30, 35]      774\n",
       "(50, 55]      636\n",
       "(35, 40]      429\n",
       "(45, 50]      396\n",
       "(40, 45]      346\n",
       "Name: fare_bin, dtype: int64"
      ]
     },
     "execution_count": 42,
     "metadata": {},
     "output_type": "execute_result"
    }
   ],
   "source": [
    "df1['fare_bin'].value_counts()"
   ]
  },
  {
   "cell_type": "markdown",
   "id": "dd60cbe4",
   "metadata": {},
   "source": [
    "## Model-1"
   ]
  },
  {
   "cell_type": "code",
   "execution_count": 43,
   "id": "0e41b221",
   "metadata": {},
   "outputs": [
    {
     "data": {
      "text/plain": [
       "Index(['uid', 'fare', 'pickup_dt', 'long_pickup', 'lat_pickup', 'long_drop',\n",
       "       'lat_drop', 'passe', 'Euclid_dist', 'Manhattan_dist', 'haversine_dist',\n",
       "       'abs_diff_long', 'abs_diff_lat', 'fare_bin'],\n",
       "      dtype='object')"
      ]
     },
     "execution_count": 43,
     "metadata": {},
     "output_type": "execute_result"
    }
   ],
   "source": [
    "df1.columns"
   ]
  },
  {
   "cell_type": "code",
   "execution_count": 44,
   "id": "05a427ce",
   "metadata": {},
   "outputs": [],
   "source": [
    "y=df1['fare']\n",
    "x=df1[['passe', 'Euclid_dist', 'Manhattan_dist', 'haversine_dist',\n",
    "       'abs_diff_long', 'abs_diff_lat']]"
   ]
  },
  {
   "cell_type": "code",
   "execution_count": 45,
   "id": "06432f6a",
   "metadata": {},
   "outputs": [
    {
     "name": "stdout",
     "output_type": "stream",
     "text": [
      "(49999, 6)\n",
      "(49999,)\n"
     ]
    }
   ],
   "source": [
    "print(x.shape)\n",
    "print(y.shape)"
   ]
  },
  {
   "cell_type": "code",
   "execution_count": 46,
   "id": "5291543d",
   "metadata": {},
   "outputs": [],
   "source": [
    "from sklearn.model_selection import train_test_split"
   ]
  },
  {
   "cell_type": "code",
   "execution_count": 47,
   "id": "f38ae6b2",
   "metadata": {},
   "outputs": [
    {
     "name": "stdout",
     "output_type": "stream",
     "text": [
      "(34999, 6)\n",
      "(15000, 6)\n",
      "(34999,)\n",
      "(15000,)\n"
     ]
    }
   ],
   "source": [
    "x_train,x_test,y_train,y_test = train_test_split(x,y,test_size=0.30,random_state=10)\n",
    "print(x_train.shape)\n",
    "print(x_test.shape)\n",
    "print(y_train.shape)\n",
    "print(y_test.shape)"
   ]
  },
  {
   "cell_type": "code",
   "execution_count": 48,
   "id": "37de09d2",
   "metadata": {},
   "outputs": [],
   "source": [
    "from sklearn.linear_model import LogisticRegression\n",
    "from sklearn.tree import DecisionTreeClassifier\n",
    "from sklearn.ensemble import RandomForestClassifier, AdaBoostClassifier\n",
    "from sklearn.metrics import confusion_matrix,classification_report,mean_absolute_error,mean_squared_error,r2_score\n",
    "from sklearn.metrics import accuracy_score,roc_auc_score,roc_curve"
   ]
  },
  {
   "cell_type": "code",
   "execution_count": 49,
   "id": "19a76f1c",
   "metadata": {},
   "outputs": [],
   "source": [
    "def gen_metrics(model,x_train,x_test,y_train,y_test):\n",
    "    model.fit(x_train,y_train)\n",
    "    train_score = model.score(x_train,y_train)\n",
    "    test_score = model.score(x_test,y_test)\n",
    "    print('Training Score',train_score)\n",
    "    print('Testing Score',test_score)\n",
    "    ypred = model.predict(x_test)\n",
    "    mae = mean_absolute_error(y_test,ypred)\n",
    "    mse = mean_squared_error(y_test,ypred)\n",
    "    rmse = np.sqrt(mean_squared_error(y_test,ypred))\n",
    "    r2s = r2_score(y_test,ypred)\n",
    "    print('MAE',mae)\n",
    "    print('MSE',mse)\n",
    "    print('RMSE',rmse)\n",
    "    print('R2_Score',r2s)"
   ]
  },
  {
   "cell_type": "code",
   "execution_count": 50,
   "id": "25137cb8",
   "metadata": {},
   "outputs": [],
   "source": [
    "from sklearn.ensemble import RandomForestRegressor"
   ]
  },
  {
   "cell_type": "code",
   "execution_count": 51,
   "id": "b2c68d55",
   "metadata": {},
   "outputs": [
    {
     "name": "stdout",
     "output_type": "stream",
     "text": [
      "Training Score 0.9354185816515959\n",
      "Testing Score 0.7765833675088977\n",
      "MAE 2.3888027211038305\n",
      "MSE 17.55257617071637\n",
      "RMSE 4.189579474209359\n",
      "R2_Score 0.7765833675088977\n"
     ]
    }
   ],
   "source": [
    "m1= RandomForestRegressor(n_estimators=70,criterion='mse')\n",
    "gen_metrics(m1,x_train,x_test,y_train,y_test)"
   ]
  },
  {
   "cell_type": "code",
   "execution_count": 52,
   "id": "39173a7c",
   "metadata": {},
   "outputs": [
    {
     "data": {
      "text/html": [
       "<div>\n",
       "<style scoped>\n",
       "    .dataframe tbody tr th:only-of-type {\n",
       "        vertical-align: middle;\n",
       "    }\n",
       "\n",
       "    .dataframe tbody tr th {\n",
       "        vertical-align: top;\n",
       "    }\n",
       "\n",
       "    .dataframe thead th {\n",
       "        text-align: right;\n",
       "    }\n",
       "</style>\n",
       "<table border=\"1\" class=\"dataframe\">\n",
       "  <thead>\n",
       "    <tr style=\"text-align: right;\">\n",
       "      <th></th>\n",
       "      <th>Features</th>\n",
       "      <th>Norm_Imp</th>\n",
       "    </tr>\n",
       "  </thead>\n",
       "  <tbody>\n",
       "    <tr>\n",
       "      <th>1</th>\n",
       "      <td>Euclid_dist</td>\n",
       "      <td>0.805329</td>\n",
       "    </tr>\n",
       "    <tr>\n",
       "      <th>4</th>\n",
       "      <td>abs_diff_long</td>\n",
       "      <td>0.052096</td>\n",
       "    </tr>\n",
       "    <tr>\n",
       "      <th>3</th>\n",
       "      <td>haversine_dist</td>\n",
       "      <td>0.050233</td>\n",
       "    </tr>\n",
       "    <tr>\n",
       "      <th>2</th>\n",
       "      <td>Manhattan_dist</td>\n",
       "      <td>0.043328</td>\n",
       "    </tr>\n",
       "    <tr>\n",
       "      <th>5</th>\n",
       "      <td>abs_diff_lat</td>\n",
       "      <td>0.039300</td>\n",
       "    </tr>\n",
       "    <tr>\n",
       "      <th>0</th>\n",
       "      <td>passe</td>\n",
       "      <td>0.009714</td>\n",
       "    </tr>\n",
       "  </tbody>\n",
       "</table>\n",
       "</div>"
      ],
      "text/plain": [
       "         Features  Norm_Imp\n",
       "1     Euclid_dist  0.805329\n",
       "4   abs_diff_long  0.052096\n",
       "3  haversine_dist  0.050233\n",
       "2  Manhattan_dist  0.043328\n",
       "5    abs_diff_lat  0.039300\n",
       "0           passe  0.009714"
      ]
     },
     "execution_count": 52,
     "metadata": {},
     "output_type": "execute_result"
    }
   ],
   "source": [
    "fimp_m1= pd.DataFrame({'Features':x_train.columns,\n",
    "                      'Norm_Imp':m1.feature_importances_})\n",
    "fimp_m1.sort_values(by='Norm_Imp',ascending=False)"
   ]
  },
  {
   "cell_type": "code",
   "execution_count": 53,
   "id": "ab31fe3e",
   "metadata": {},
   "outputs": [
    {
     "name": "stdout",
     "output_type": "stream",
     "text": [
      "Training Score 0.8178469063197118\n",
      "Testing Score 0.7986321724042479\n",
      "MAE 2.23586714578469\n",
      "MSE 15.820326771539202\n",
      "RMSE 3.9774774382187514\n",
      "R2_Score 0.7986321724042479\n"
     ]
    }
   ],
   "source": [
    "m2= RandomForestRegressor(n_estimators=70,criterion='mse',max_depth=7)\n",
    "gen_metrics(m2,x_train,x_test,y_train,y_test)"
   ]
  },
  {
   "cell_type": "code",
   "execution_count": 54,
   "id": "095a41c9",
   "metadata": {},
   "outputs": [
    {
     "data": {
      "text/html": [
       "<div>\n",
       "<style scoped>\n",
       "    .dataframe tbody tr th:only-of-type {\n",
       "        vertical-align: middle;\n",
       "    }\n",
       "\n",
       "    .dataframe tbody tr th {\n",
       "        vertical-align: top;\n",
       "    }\n",
       "\n",
       "    .dataframe thead th {\n",
       "        text-align: right;\n",
       "    }\n",
       "</style>\n",
       "<table border=\"1\" class=\"dataframe\">\n",
       "  <thead>\n",
       "    <tr style=\"text-align: right;\">\n",
       "      <th></th>\n",
       "      <th>Features</th>\n",
       "      <th>Norm_Imp</th>\n",
       "    </tr>\n",
       "  </thead>\n",
       "  <tbody>\n",
       "    <tr>\n",
       "      <th>1</th>\n",
       "      <td>Euclid_dist</td>\n",
       "      <td>0.910562</td>\n",
       "    </tr>\n",
       "    <tr>\n",
       "      <th>4</th>\n",
       "      <td>abs_diff_long</td>\n",
       "      <td>0.032902</td>\n",
       "    </tr>\n",
       "    <tr>\n",
       "      <th>3</th>\n",
       "      <td>haversine_dist</td>\n",
       "      <td>0.024888</td>\n",
       "    </tr>\n",
       "    <tr>\n",
       "      <th>2</th>\n",
       "      <td>Manhattan_dist</td>\n",
       "      <td>0.019285</td>\n",
       "    </tr>\n",
       "    <tr>\n",
       "      <th>5</th>\n",
       "      <td>abs_diff_lat</td>\n",
       "      <td>0.010736</td>\n",
       "    </tr>\n",
       "    <tr>\n",
       "      <th>0</th>\n",
       "      <td>passe</td>\n",
       "      <td>0.001627</td>\n",
       "    </tr>\n",
       "  </tbody>\n",
       "</table>\n",
       "</div>"
      ],
      "text/plain": [
       "         Features  Norm_Imp\n",
       "1     Euclid_dist  0.910562\n",
       "4   abs_diff_long  0.032902\n",
       "3  haversine_dist  0.024888\n",
       "2  Manhattan_dist  0.019285\n",
       "5    abs_diff_lat  0.010736\n",
       "0           passe  0.001627"
      ]
     },
     "execution_count": 54,
     "metadata": {},
     "output_type": "execute_result"
    }
   ],
   "source": [
    "fimp_m2= pd.DataFrame({'Features':x_train.columns,\n",
    "                      'Norm_Imp':m2.feature_importances_})\n",
    "fimp_m2.sort_values(by='Norm_Imp',ascending=False)"
   ]
  },
  {
   "cell_type": "markdown",
   "id": "856ebb5f",
   "metadata": {},
   "source": [
    "### Working on Date column"
   ]
  },
  {
   "cell_type": "code",
   "execution_count": 55,
   "id": "4b0143d6",
   "metadata": {},
   "outputs": [
    {
     "data": {
      "text/html": [
       "<div>\n",
       "<style scoped>\n",
       "    .dataframe tbody tr th:only-of-type {\n",
       "        vertical-align: middle;\n",
       "    }\n",
       "\n",
       "    .dataframe tbody tr th {\n",
       "        vertical-align: top;\n",
       "    }\n",
       "\n",
       "    .dataframe thead th {\n",
       "        text-align: right;\n",
       "    }\n",
       "</style>\n",
       "<table border=\"1\" class=\"dataframe\">\n",
       "  <thead>\n",
       "    <tr style=\"text-align: right;\">\n",
       "      <th></th>\n",
       "      <th>uid</th>\n",
       "      <th>fare</th>\n",
       "      <th>pickup_dt</th>\n",
       "      <th>long_pickup</th>\n",
       "      <th>lat_pickup</th>\n",
       "      <th>long_drop</th>\n",
       "      <th>lat_drop</th>\n",
       "      <th>passe</th>\n",
       "      <th>Euclid_dist</th>\n",
       "      <th>Manhattan_dist</th>\n",
       "      <th>haversine_dist</th>\n",
       "      <th>abs_diff_long</th>\n",
       "      <th>abs_diff_lat</th>\n",
       "      <th>fare_bin</th>\n",
       "    </tr>\n",
       "  </thead>\n",
       "  <tbody>\n",
       "    <tr>\n",
       "      <th>0</th>\n",
       "      <td>26:21.0</td>\n",
       "      <td>4.5</td>\n",
       "      <td>2009-06-15 17:26:21+00:00</td>\n",
       "      <td>-73.844311</td>\n",
       "      <td>40.721319</td>\n",
       "      <td>-73.841610</td>\n",
       "      <td>40.712278</td>\n",
       "      <td>1</td>\n",
       "      <td>0.009436</td>\n",
       "      <td>0.011742</td>\n",
       "      <td>1.030764</td>\n",
       "      <td>0.002701</td>\n",
       "      <td>0.009041</td>\n",
       "      <td>(0, 5]</td>\n",
       "    </tr>\n",
       "    <tr>\n",
       "      <th>1</th>\n",
       "      <td>52:16.0</td>\n",
       "      <td>16.9</td>\n",
       "      <td>2010-01-05 16:52:16+00:00</td>\n",
       "      <td>-74.016048</td>\n",
       "      <td>40.711303</td>\n",
       "      <td>-73.979268</td>\n",
       "      <td>40.782004</td>\n",
       "      <td>1</td>\n",
       "      <td>0.079696</td>\n",
       "      <td>0.107481</td>\n",
       "      <td>8.450134</td>\n",
       "      <td>0.036780</td>\n",
       "      <td>0.070701</td>\n",
       "      <td>(15, 20]</td>\n",
       "    </tr>\n",
       "    <tr>\n",
       "      <th>2</th>\n",
       "      <td>35:00.0</td>\n",
       "      <td>5.7</td>\n",
       "      <td>2011-08-18 00:35:00+00:00</td>\n",
       "      <td>-73.982738</td>\n",
       "      <td>40.761270</td>\n",
       "      <td>-73.991242</td>\n",
       "      <td>40.750562</td>\n",
       "      <td>2</td>\n",
       "      <td>0.013674</td>\n",
       "      <td>0.019212</td>\n",
       "      <td>1.389525</td>\n",
       "      <td>0.008504</td>\n",
       "      <td>0.010708</td>\n",
       "      <td>(5, 10]</td>\n",
       "    </tr>\n",
       "    <tr>\n",
       "      <th>3</th>\n",
       "      <td>30:42.0</td>\n",
       "      <td>7.7</td>\n",
       "      <td>2012-04-21 04:30:42+00:00</td>\n",
       "      <td>-73.987130</td>\n",
       "      <td>40.733143</td>\n",
       "      <td>-73.991567</td>\n",
       "      <td>40.758092</td>\n",
       "      <td>1</td>\n",
       "      <td>0.025340</td>\n",
       "      <td>0.029386</td>\n",
       "      <td>2.799270</td>\n",
       "      <td>0.004437</td>\n",
       "      <td>0.024949</td>\n",
       "      <td>(5, 10]</td>\n",
       "    </tr>\n",
       "    <tr>\n",
       "      <th>4</th>\n",
       "      <td>51:00.0</td>\n",
       "      <td>5.3</td>\n",
       "      <td>2010-03-09 07:51:00+00:00</td>\n",
       "      <td>-73.968095</td>\n",
       "      <td>40.768008</td>\n",
       "      <td>-73.956655</td>\n",
       "      <td>40.783762</td>\n",
       "      <td>1</td>\n",
       "      <td>0.019470</td>\n",
       "      <td>0.027194</td>\n",
       "      <td>1.999157</td>\n",
       "      <td>0.011440</td>\n",
       "      <td>0.015754</td>\n",
       "      <td>(5, 10]</td>\n",
       "    </tr>\n",
       "  </tbody>\n",
       "</table>\n",
       "</div>"
      ],
      "text/plain": [
       "       uid  fare                 pickup_dt  long_pickup  lat_pickup  \\\n",
       "0  26:21.0   4.5 2009-06-15 17:26:21+00:00   -73.844311   40.721319   \n",
       "1  52:16.0  16.9 2010-01-05 16:52:16+00:00   -74.016048   40.711303   \n",
       "2  35:00.0   5.7 2011-08-18 00:35:00+00:00   -73.982738   40.761270   \n",
       "3  30:42.0   7.7 2012-04-21 04:30:42+00:00   -73.987130   40.733143   \n",
       "4  51:00.0   5.3 2010-03-09 07:51:00+00:00   -73.968095   40.768008   \n",
       "\n",
       "   long_drop   lat_drop  passe  Euclid_dist  Manhattan_dist  haversine_dist  \\\n",
       "0 -73.841610  40.712278      1     0.009436        0.011742        1.030764   \n",
       "1 -73.979268  40.782004      1     0.079696        0.107481        8.450134   \n",
       "2 -73.991242  40.750562      2     0.013674        0.019212        1.389525   \n",
       "3 -73.991567  40.758092      1     0.025340        0.029386        2.799270   \n",
       "4 -73.956655  40.783762      1     0.019470        0.027194        1.999157   \n",
       "\n",
       "   abs_diff_long  abs_diff_lat  fare_bin  \n",
       "0       0.002701      0.009041    (0, 5]  \n",
       "1       0.036780      0.070701  (15, 20]  \n",
       "2       0.008504      0.010708   (5, 10]  \n",
       "3       0.004437      0.024949   (5, 10]  \n",
       "4       0.011440      0.015754   (5, 10]  "
      ]
     },
     "execution_count": 55,
     "metadata": {},
     "output_type": "execute_result"
    }
   ],
   "source": [
    "df1.head()"
   ]
  },
  {
   "cell_type": "code",
   "execution_count": 56,
   "id": "82174f02",
   "metadata": {},
   "outputs": [],
   "source": [
    "df1['year']=df1['pickup_dt'].dt.year\n",
    "df1['quarter']=df1['pickup_dt'].dt.quarter\n",
    "df1['month']=df1['pickup_dt'].dt.month"
   ]
  },
  {
   "cell_type": "code",
   "execution_count": 57,
   "id": "8ff9db6b",
   "metadata": {},
   "outputs": [
    {
     "data": {
      "text/html": [
       "<div>\n",
       "<style scoped>\n",
       "    .dataframe tbody tr th:only-of-type {\n",
       "        vertical-align: middle;\n",
       "    }\n",
       "\n",
       "    .dataframe tbody tr th {\n",
       "        vertical-align: top;\n",
       "    }\n",
       "\n",
       "    .dataframe thead th {\n",
       "        text-align: right;\n",
       "    }\n",
       "</style>\n",
       "<table border=\"1\" class=\"dataframe\">\n",
       "  <thead>\n",
       "    <tr style=\"text-align: right;\">\n",
       "      <th></th>\n",
       "      <th>uid</th>\n",
       "      <th>fare</th>\n",
       "      <th>pickup_dt</th>\n",
       "      <th>long_pickup</th>\n",
       "      <th>lat_pickup</th>\n",
       "      <th>long_drop</th>\n",
       "      <th>lat_drop</th>\n",
       "      <th>passe</th>\n",
       "      <th>Euclid_dist</th>\n",
       "      <th>Manhattan_dist</th>\n",
       "      <th>haversine_dist</th>\n",
       "      <th>abs_diff_long</th>\n",
       "      <th>abs_diff_lat</th>\n",
       "      <th>fare_bin</th>\n",
       "      <th>year</th>\n",
       "      <th>quarter</th>\n",
       "      <th>month</th>\n",
       "    </tr>\n",
       "  </thead>\n",
       "  <tbody>\n",
       "    <tr>\n",
       "      <th>0</th>\n",
       "      <td>26:21.0</td>\n",
       "      <td>4.5</td>\n",
       "      <td>2009-06-15 17:26:21+00:00</td>\n",
       "      <td>-73.844311</td>\n",
       "      <td>40.721319</td>\n",
       "      <td>-73.841610</td>\n",
       "      <td>40.712278</td>\n",
       "      <td>1</td>\n",
       "      <td>0.009436</td>\n",
       "      <td>0.011742</td>\n",
       "      <td>1.030764</td>\n",
       "      <td>0.002701</td>\n",
       "      <td>0.009041</td>\n",
       "      <td>(0, 5]</td>\n",
       "      <td>2009</td>\n",
       "      <td>2</td>\n",
       "      <td>6</td>\n",
       "    </tr>\n",
       "    <tr>\n",
       "      <th>1</th>\n",
       "      <td>52:16.0</td>\n",
       "      <td>16.9</td>\n",
       "      <td>2010-01-05 16:52:16+00:00</td>\n",
       "      <td>-74.016048</td>\n",
       "      <td>40.711303</td>\n",
       "      <td>-73.979268</td>\n",
       "      <td>40.782004</td>\n",
       "      <td>1</td>\n",
       "      <td>0.079696</td>\n",
       "      <td>0.107481</td>\n",
       "      <td>8.450134</td>\n",
       "      <td>0.036780</td>\n",
       "      <td>0.070701</td>\n",
       "      <td>(15, 20]</td>\n",
       "      <td>2010</td>\n",
       "      <td>1</td>\n",
       "      <td>1</td>\n",
       "    </tr>\n",
       "    <tr>\n",
       "      <th>2</th>\n",
       "      <td>35:00.0</td>\n",
       "      <td>5.7</td>\n",
       "      <td>2011-08-18 00:35:00+00:00</td>\n",
       "      <td>-73.982738</td>\n",
       "      <td>40.761270</td>\n",
       "      <td>-73.991242</td>\n",
       "      <td>40.750562</td>\n",
       "      <td>2</td>\n",
       "      <td>0.013674</td>\n",
       "      <td>0.019212</td>\n",
       "      <td>1.389525</td>\n",
       "      <td>0.008504</td>\n",
       "      <td>0.010708</td>\n",
       "      <td>(5, 10]</td>\n",
       "      <td>2011</td>\n",
       "      <td>3</td>\n",
       "      <td>8</td>\n",
       "    </tr>\n",
       "    <tr>\n",
       "      <th>3</th>\n",
       "      <td>30:42.0</td>\n",
       "      <td>7.7</td>\n",
       "      <td>2012-04-21 04:30:42+00:00</td>\n",
       "      <td>-73.987130</td>\n",
       "      <td>40.733143</td>\n",
       "      <td>-73.991567</td>\n",
       "      <td>40.758092</td>\n",
       "      <td>1</td>\n",
       "      <td>0.025340</td>\n",
       "      <td>0.029386</td>\n",
       "      <td>2.799270</td>\n",
       "      <td>0.004437</td>\n",
       "      <td>0.024949</td>\n",
       "      <td>(5, 10]</td>\n",
       "      <td>2012</td>\n",
       "      <td>2</td>\n",
       "      <td>4</td>\n",
       "    </tr>\n",
       "    <tr>\n",
       "      <th>4</th>\n",
       "      <td>51:00.0</td>\n",
       "      <td>5.3</td>\n",
       "      <td>2010-03-09 07:51:00+00:00</td>\n",
       "      <td>-73.968095</td>\n",
       "      <td>40.768008</td>\n",
       "      <td>-73.956655</td>\n",
       "      <td>40.783762</td>\n",
       "      <td>1</td>\n",
       "      <td>0.019470</td>\n",
       "      <td>0.027194</td>\n",
       "      <td>1.999157</td>\n",
       "      <td>0.011440</td>\n",
       "      <td>0.015754</td>\n",
       "      <td>(5, 10]</td>\n",
       "      <td>2010</td>\n",
       "      <td>1</td>\n",
       "      <td>3</td>\n",
       "    </tr>\n",
       "  </tbody>\n",
       "</table>\n",
       "</div>"
      ],
      "text/plain": [
       "       uid  fare                 pickup_dt  long_pickup  lat_pickup  \\\n",
       "0  26:21.0   4.5 2009-06-15 17:26:21+00:00   -73.844311   40.721319   \n",
       "1  52:16.0  16.9 2010-01-05 16:52:16+00:00   -74.016048   40.711303   \n",
       "2  35:00.0   5.7 2011-08-18 00:35:00+00:00   -73.982738   40.761270   \n",
       "3  30:42.0   7.7 2012-04-21 04:30:42+00:00   -73.987130   40.733143   \n",
       "4  51:00.0   5.3 2010-03-09 07:51:00+00:00   -73.968095   40.768008   \n",
       "\n",
       "   long_drop   lat_drop  passe  Euclid_dist  Manhattan_dist  haversine_dist  \\\n",
       "0 -73.841610  40.712278      1     0.009436        0.011742        1.030764   \n",
       "1 -73.979268  40.782004      1     0.079696        0.107481        8.450134   \n",
       "2 -73.991242  40.750562      2     0.013674        0.019212        1.389525   \n",
       "3 -73.991567  40.758092      1     0.025340        0.029386        2.799270   \n",
       "4 -73.956655  40.783762      1     0.019470        0.027194        1.999157   \n",
       "\n",
       "   abs_diff_long  abs_diff_lat  fare_bin  year  quarter  month  \n",
       "0       0.002701      0.009041    (0, 5]  2009        2      6  \n",
       "1       0.036780      0.070701  (15, 20]  2010        1      1  \n",
       "2       0.008504      0.010708   (5, 10]  2011        3      8  \n",
       "3       0.004437      0.024949   (5, 10]  2012        2      4  \n",
       "4       0.011440      0.015754   (5, 10]  2010        1      3  "
      ]
     },
     "execution_count": 57,
     "metadata": {},
     "output_type": "execute_result"
    }
   ],
   "source": [
    "df1.head()"
   ]
  },
  {
   "cell_type": "code",
   "execution_count": 58,
   "id": "71684834",
   "metadata": {},
   "outputs": [
    {
     "data": {
      "text/html": [
       "<div>\n",
       "<style scoped>\n",
       "    .dataframe tbody tr th:only-of-type {\n",
       "        vertical-align: middle;\n",
       "    }\n",
       "\n",
       "    .dataframe tbody tr th {\n",
       "        vertical-align: top;\n",
       "    }\n",
       "\n",
       "    .dataframe thead th {\n",
       "        text-align: right;\n",
       "    }\n",
       "</style>\n",
       "<table border=\"1\" class=\"dataframe\">\n",
       "  <thead>\n",
       "    <tr style=\"text-align: right;\">\n",
       "      <th></th>\n",
       "      <th>uid</th>\n",
       "      <th>fare</th>\n",
       "      <th>pickup_dt</th>\n",
       "      <th>long_pickup</th>\n",
       "      <th>lat_pickup</th>\n",
       "      <th>long_drop</th>\n",
       "      <th>lat_drop</th>\n",
       "      <th>passe</th>\n",
       "      <th>Euclid_dist</th>\n",
       "      <th>Manhattan_dist</th>\n",
       "      <th>haversine_dist</th>\n",
       "      <th>abs_diff_long</th>\n",
       "      <th>abs_diff_lat</th>\n",
       "      <th>fare_bin</th>\n",
       "      <th>year</th>\n",
       "      <th>quarter</th>\n",
       "      <th>month</th>\n",
       "      <th>hour</th>\n",
       "    </tr>\n",
       "  </thead>\n",
       "  <tbody>\n",
       "    <tr>\n",
       "      <th>0</th>\n",
       "      <td>26:21.0</td>\n",
       "      <td>4.5</td>\n",
       "      <td>2009-06-15 17:26:21+00:00</td>\n",
       "      <td>-73.844311</td>\n",
       "      <td>40.721319</td>\n",
       "      <td>-73.841610</td>\n",
       "      <td>40.712278</td>\n",
       "      <td>1</td>\n",
       "      <td>0.009436</td>\n",
       "      <td>0.011742</td>\n",
       "      <td>1.030764</td>\n",
       "      <td>0.002701</td>\n",
       "      <td>0.009041</td>\n",
       "      <td>(0, 5]</td>\n",
       "      <td>2009</td>\n",
       "      <td>2</td>\n",
       "      <td>6</td>\n",
       "      <td>17</td>\n",
       "    </tr>\n",
       "    <tr>\n",
       "      <th>1</th>\n",
       "      <td>52:16.0</td>\n",
       "      <td>16.9</td>\n",
       "      <td>2010-01-05 16:52:16+00:00</td>\n",
       "      <td>-74.016048</td>\n",
       "      <td>40.711303</td>\n",
       "      <td>-73.979268</td>\n",
       "      <td>40.782004</td>\n",
       "      <td>1</td>\n",
       "      <td>0.079696</td>\n",
       "      <td>0.107481</td>\n",
       "      <td>8.450134</td>\n",
       "      <td>0.036780</td>\n",
       "      <td>0.070701</td>\n",
       "      <td>(15, 20]</td>\n",
       "      <td>2010</td>\n",
       "      <td>1</td>\n",
       "      <td>1</td>\n",
       "      <td>16</td>\n",
       "    </tr>\n",
       "    <tr>\n",
       "      <th>2</th>\n",
       "      <td>35:00.0</td>\n",
       "      <td>5.7</td>\n",
       "      <td>2011-08-18 00:35:00+00:00</td>\n",
       "      <td>-73.982738</td>\n",
       "      <td>40.761270</td>\n",
       "      <td>-73.991242</td>\n",
       "      <td>40.750562</td>\n",
       "      <td>2</td>\n",
       "      <td>0.013674</td>\n",
       "      <td>0.019212</td>\n",
       "      <td>1.389525</td>\n",
       "      <td>0.008504</td>\n",
       "      <td>0.010708</td>\n",
       "      <td>(5, 10]</td>\n",
       "      <td>2011</td>\n",
       "      <td>3</td>\n",
       "      <td>8</td>\n",
       "      <td>0</td>\n",
       "    </tr>\n",
       "    <tr>\n",
       "      <th>3</th>\n",
       "      <td>30:42.0</td>\n",
       "      <td>7.7</td>\n",
       "      <td>2012-04-21 04:30:42+00:00</td>\n",
       "      <td>-73.987130</td>\n",
       "      <td>40.733143</td>\n",
       "      <td>-73.991567</td>\n",
       "      <td>40.758092</td>\n",
       "      <td>1</td>\n",
       "      <td>0.025340</td>\n",
       "      <td>0.029386</td>\n",
       "      <td>2.799270</td>\n",
       "      <td>0.004437</td>\n",
       "      <td>0.024949</td>\n",
       "      <td>(5, 10]</td>\n",
       "      <td>2012</td>\n",
       "      <td>2</td>\n",
       "      <td>4</td>\n",
       "      <td>4</td>\n",
       "    </tr>\n",
       "    <tr>\n",
       "      <th>4</th>\n",
       "      <td>51:00.0</td>\n",
       "      <td>5.3</td>\n",
       "      <td>2010-03-09 07:51:00+00:00</td>\n",
       "      <td>-73.968095</td>\n",
       "      <td>40.768008</td>\n",
       "      <td>-73.956655</td>\n",
       "      <td>40.783762</td>\n",
       "      <td>1</td>\n",
       "      <td>0.019470</td>\n",
       "      <td>0.027194</td>\n",
       "      <td>1.999157</td>\n",
       "      <td>0.011440</td>\n",
       "      <td>0.015754</td>\n",
       "      <td>(5, 10]</td>\n",
       "      <td>2010</td>\n",
       "      <td>1</td>\n",
       "      <td>3</td>\n",
       "      <td>7</td>\n",
       "    </tr>\n",
       "  </tbody>\n",
       "</table>\n",
       "</div>"
      ],
      "text/plain": [
       "       uid  fare                 pickup_dt  long_pickup  lat_pickup  \\\n",
       "0  26:21.0   4.5 2009-06-15 17:26:21+00:00   -73.844311   40.721319   \n",
       "1  52:16.0  16.9 2010-01-05 16:52:16+00:00   -74.016048   40.711303   \n",
       "2  35:00.0   5.7 2011-08-18 00:35:00+00:00   -73.982738   40.761270   \n",
       "3  30:42.0   7.7 2012-04-21 04:30:42+00:00   -73.987130   40.733143   \n",
       "4  51:00.0   5.3 2010-03-09 07:51:00+00:00   -73.968095   40.768008   \n",
       "\n",
       "   long_drop   lat_drop  passe  Euclid_dist  Manhattan_dist  haversine_dist  \\\n",
       "0 -73.841610  40.712278      1     0.009436        0.011742        1.030764   \n",
       "1 -73.979268  40.782004      1     0.079696        0.107481        8.450134   \n",
       "2 -73.991242  40.750562      2     0.013674        0.019212        1.389525   \n",
       "3 -73.991567  40.758092      1     0.025340        0.029386        2.799270   \n",
       "4 -73.956655  40.783762      1     0.019470        0.027194        1.999157   \n",
       "\n",
       "   abs_diff_long  abs_diff_lat  fare_bin  year  quarter  month  hour  \n",
       "0       0.002701      0.009041    (0, 5]  2009        2      6    17  \n",
       "1       0.036780      0.070701  (15, 20]  2010        1      1    16  \n",
       "2       0.008504      0.010708   (5, 10]  2011        3      8     0  \n",
       "3       0.004437      0.024949   (5, 10]  2012        2      4     4  \n",
       "4       0.011440      0.015754   (5, 10]  2010        1      3     7  "
      ]
     },
     "execution_count": 58,
     "metadata": {},
     "output_type": "execute_result"
    }
   ],
   "source": [
    "df1['hour']=df1['pickup_dt'].apply(lambda x:x.hour)\n",
    "df1.head()"
   ]
  },
  {
   "cell_type": "code",
   "execution_count": 59,
   "id": "d97dc8dd",
   "metadata": {},
   "outputs": [
    {
     "data": {
      "text/html": [
       "<div>\n",
       "<style scoped>\n",
       "    .dataframe tbody tr th:only-of-type {\n",
       "        vertical-align: middle;\n",
       "    }\n",
       "\n",
       "    .dataframe tbody tr th {\n",
       "        vertical-align: top;\n",
       "    }\n",
       "\n",
       "    .dataframe thead th {\n",
       "        text-align: right;\n",
       "    }\n",
       "</style>\n",
       "<table border=\"1\" class=\"dataframe\">\n",
       "  <thead>\n",
       "    <tr style=\"text-align: right;\">\n",
       "      <th></th>\n",
       "      <th>uid</th>\n",
       "      <th>fare</th>\n",
       "      <th>pickup_dt</th>\n",
       "      <th>long_pickup</th>\n",
       "      <th>lat_pickup</th>\n",
       "      <th>long_drop</th>\n",
       "      <th>lat_drop</th>\n",
       "      <th>passe</th>\n",
       "      <th>Euclid_dist</th>\n",
       "      <th>Manhattan_dist</th>\n",
       "      <th>haversine_dist</th>\n",
       "      <th>abs_diff_long</th>\n",
       "      <th>abs_diff_lat</th>\n",
       "      <th>fare_bin</th>\n",
       "      <th>year</th>\n",
       "      <th>quarter</th>\n",
       "      <th>month</th>\n",
       "      <th>hour</th>\n",
       "      <th>minute</th>\n",
       "    </tr>\n",
       "  </thead>\n",
       "  <tbody>\n",
       "    <tr>\n",
       "      <th>0</th>\n",
       "      <td>26:21.0</td>\n",
       "      <td>4.5</td>\n",
       "      <td>2009-06-15 17:26:21+00:00</td>\n",
       "      <td>-73.844311</td>\n",
       "      <td>40.721319</td>\n",
       "      <td>-73.841610</td>\n",
       "      <td>40.712278</td>\n",
       "      <td>1</td>\n",
       "      <td>0.009436</td>\n",
       "      <td>0.011742</td>\n",
       "      <td>1.030764</td>\n",
       "      <td>0.002701</td>\n",
       "      <td>0.009041</td>\n",
       "      <td>(0, 5]</td>\n",
       "      <td>2009</td>\n",
       "      <td>2</td>\n",
       "      <td>6</td>\n",
       "      <td>17</td>\n",
       "      <td>26</td>\n",
       "    </tr>\n",
       "    <tr>\n",
       "      <th>1</th>\n",
       "      <td>52:16.0</td>\n",
       "      <td>16.9</td>\n",
       "      <td>2010-01-05 16:52:16+00:00</td>\n",
       "      <td>-74.016048</td>\n",
       "      <td>40.711303</td>\n",
       "      <td>-73.979268</td>\n",
       "      <td>40.782004</td>\n",
       "      <td>1</td>\n",
       "      <td>0.079696</td>\n",
       "      <td>0.107481</td>\n",
       "      <td>8.450134</td>\n",
       "      <td>0.036780</td>\n",
       "      <td>0.070701</td>\n",
       "      <td>(15, 20]</td>\n",
       "      <td>2010</td>\n",
       "      <td>1</td>\n",
       "      <td>1</td>\n",
       "      <td>16</td>\n",
       "      <td>52</td>\n",
       "    </tr>\n",
       "    <tr>\n",
       "      <th>2</th>\n",
       "      <td>35:00.0</td>\n",
       "      <td>5.7</td>\n",
       "      <td>2011-08-18 00:35:00+00:00</td>\n",
       "      <td>-73.982738</td>\n",
       "      <td>40.761270</td>\n",
       "      <td>-73.991242</td>\n",
       "      <td>40.750562</td>\n",
       "      <td>2</td>\n",
       "      <td>0.013674</td>\n",
       "      <td>0.019212</td>\n",
       "      <td>1.389525</td>\n",
       "      <td>0.008504</td>\n",
       "      <td>0.010708</td>\n",
       "      <td>(5, 10]</td>\n",
       "      <td>2011</td>\n",
       "      <td>3</td>\n",
       "      <td>8</td>\n",
       "      <td>0</td>\n",
       "      <td>35</td>\n",
       "    </tr>\n",
       "    <tr>\n",
       "      <th>3</th>\n",
       "      <td>30:42.0</td>\n",
       "      <td>7.7</td>\n",
       "      <td>2012-04-21 04:30:42+00:00</td>\n",
       "      <td>-73.987130</td>\n",
       "      <td>40.733143</td>\n",
       "      <td>-73.991567</td>\n",
       "      <td>40.758092</td>\n",
       "      <td>1</td>\n",
       "      <td>0.025340</td>\n",
       "      <td>0.029386</td>\n",
       "      <td>2.799270</td>\n",
       "      <td>0.004437</td>\n",
       "      <td>0.024949</td>\n",
       "      <td>(5, 10]</td>\n",
       "      <td>2012</td>\n",
       "      <td>2</td>\n",
       "      <td>4</td>\n",
       "      <td>4</td>\n",
       "      <td>30</td>\n",
       "    </tr>\n",
       "    <tr>\n",
       "      <th>4</th>\n",
       "      <td>51:00.0</td>\n",
       "      <td>5.3</td>\n",
       "      <td>2010-03-09 07:51:00+00:00</td>\n",
       "      <td>-73.968095</td>\n",
       "      <td>40.768008</td>\n",
       "      <td>-73.956655</td>\n",
       "      <td>40.783762</td>\n",
       "      <td>1</td>\n",
       "      <td>0.019470</td>\n",
       "      <td>0.027194</td>\n",
       "      <td>1.999157</td>\n",
       "      <td>0.011440</td>\n",
       "      <td>0.015754</td>\n",
       "      <td>(5, 10]</td>\n",
       "      <td>2010</td>\n",
       "      <td>1</td>\n",
       "      <td>3</td>\n",
       "      <td>7</td>\n",
       "      <td>51</td>\n",
       "    </tr>\n",
       "  </tbody>\n",
       "</table>\n",
       "</div>"
      ],
      "text/plain": [
       "       uid  fare                 pickup_dt  long_pickup  lat_pickup  \\\n",
       "0  26:21.0   4.5 2009-06-15 17:26:21+00:00   -73.844311   40.721319   \n",
       "1  52:16.0  16.9 2010-01-05 16:52:16+00:00   -74.016048   40.711303   \n",
       "2  35:00.0   5.7 2011-08-18 00:35:00+00:00   -73.982738   40.761270   \n",
       "3  30:42.0   7.7 2012-04-21 04:30:42+00:00   -73.987130   40.733143   \n",
       "4  51:00.0   5.3 2010-03-09 07:51:00+00:00   -73.968095   40.768008   \n",
       "\n",
       "   long_drop   lat_drop  passe  Euclid_dist  Manhattan_dist  haversine_dist  \\\n",
       "0 -73.841610  40.712278      1     0.009436        0.011742        1.030764   \n",
       "1 -73.979268  40.782004      1     0.079696        0.107481        8.450134   \n",
       "2 -73.991242  40.750562      2     0.013674        0.019212        1.389525   \n",
       "3 -73.991567  40.758092      1     0.025340        0.029386        2.799270   \n",
       "4 -73.956655  40.783762      1     0.019470        0.027194        1.999157   \n",
       "\n",
       "   abs_diff_long  abs_diff_lat  fare_bin  year  quarter  month  hour  minute  \n",
       "0       0.002701      0.009041    (0, 5]  2009        2      6    17      26  \n",
       "1       0.036780      0.070701  (15, 20]  2010        1      1    16      52  \n",
       "2       0.008504      0.010708   (5, 10]  2011        3      8     0      35  \n",
       "3       0.004437      0.024949   (5, 10]  2012        2      4     4      30  \n",
       "4       0.011440      0.015754   (5, 10]  2010        1      3     7      51  "
      ]
     },
     "execution_count": 59,
     "metadata": {},
     "output_type": "execute_result"
    }
   ],
   "source": [
    "df1['minute']=df1['pickup_dt'].apply(lambda x:x.minute)\n",
    "df1.head()"
   ]
  },
  {
   "cell_type": "code",
   "execution_count": 60,
   "id": "1a0b868d",
   "metadata": {},
   "outputs": [
    {
     "data": {
      "text/plain": [
       "hour\n",
       "18    33952.91\n",
       "19    33315.39\n",
       "22    30926.22\n",
       "21    30870.17\n",
       "20    30335.36\n",
       "14    29525.87\n",
       "13    28581.50\n",
       "15    28037.83\n",
       "17    27928.02\n",
       "23    27834.50\n",
       "12    27704.75\n",
       "11    25825.42\n",
       "9     24988.61\n",
       "16    24751.32\n",
       "10    24249.59\n",
       "8     23300.00\n",
       "0     22461.62\n",
       "7     20871.88\n",
       "1     17212.50\n",
       "6     12333.18\n",
       "2     12122.60\n",
       "3      9893.39\n",
       "4      8290.21\n",
       "5      7611.93\n",
       "Name: fare, dtype: float64"
      ]
     },
     "execution_count": 60,
     "metadata": {},
     "output_type": "execute_result"
    }
   ],
   "source": [
    "h=df1.groupby(['hour'])['fare'].sum()\n",
    "h.sort_values(ascending=False)"
   ]
  },
  {
   "cell_type": "code",
   "execution_count": 61,
   "id": "a5b0c1f6",
   "metadata": {},
   "outputs": [
    {
     "data": {
      "text/plain": [
       "month\n",
       "5     54001.37\n",
       "3     51551.31\n",
       "6     51413.48\n",
       "4     50813.47\n",
       "1     48259.00\n",
       "2     46522.53\n",
       "10    46375.96\n",
       "12    46278.33\n",
       "9     45199.64\n",
       "11    43274.56\n",
       "7     39694.00\n",
       "8     39541.12\n",
       "Name: fare, dtype: float64"
      ]
     },
     "execution_count": 61,
     "metadata": {},
     "output_type": "execute_result"
    }
   ],
   "source": [
    "m=df1.groupby(['month'])['fare'].sum()\n",
    "m.sort_values(ascending=False)"
   ]
  },
  {
   "cell_type": "code",
   "execution_count": 62,
   "id": "87a29fcb",
   "metadata": {},
   "outputs": [
    {
     "data": {
      "text/plain": [
       "year\n",
       "2014    97304.29\n",
       "2013    96025.44\n",
       "2012    89033.90\n",
       "2011    81666.47\n",
       "2009    77159.24\n",
       "2010    77100.96\n",
       "2015    44634.47\n",
       "Name: fare, dtype: float64"
      ]
     },
     "execution_count": 62,
     "metadata": {},
     "output_type": "execute_result"
    }
   ],
   "source": [
    "y=df1.groupby(['year'])['fare'].sum()\n",
    "y.sort_values(ascending=False)"
   ]
  },
  {
   "cell_type": "code",
   "execution_count": 63,
   "id": "94304489",
   "metadata": {},
   "outputs": [
    {
     "data": {
      "text/html": [
       "<div>\n",
       "<style scoped>\n",
       "    .dataframe tbody tr th:only-of-type {\n",
       "        vertical-align: middle;\n",
       "    }\n",
       "\n",
       "    .dataframe tbody tr th {\n",
       "        vertical-align: top;\n",
       "    }\n",
       "\n",
       "    .dataframe thead th {\n",
       "        text-align: right;\n",
       "    }\n",
       "</style>\n",
       "<table border=\"1\" class=\"dataframe\">\n",
       "  <thead>\n",
       "    <tr style=\"text-align: right;\">\n",
       "      <th></th>\n",
       "      <th>uid</th>\n",
       "      <th>fare</th>\n",
       "      <th>pickup_dt</th>\n",
       "      <th>long_pickup</th>\n",
       "      <th>lat_pickup</th>\n",
       "      <th>long_drop</th>\n",
       "      <th>lat_drop</th>\n",
       "      <th>passe</th>\n",
       "      <th>Euclid_dist</th>\n",
       "      <th>Manhattan_dist</th>\n",
       "      <th>...</th>\n",
       "      <th>fare_bin</th>\n",
       "      <th>year</th>\n",
       "      <th>quarter</th>\n",
       "      <th>month</th>\n",
       "      <th>hour</th>\n",
       "      <th>minute</th>\n",
       "      <th>Day_Q1</th>\n",
       "      <th>Day_Q2</th>\n",
       "      <th>Day_Q3</th>\n",
       "      <th>Day_Q4</th>\n",
       "    </tr>\n",
       "  </thead>\n",
       "  <tbody>\n",
       "    <tr>\n",
       "      <th>0</th>\n",
       "      <td>26:21.0</td>\n",
       "      <td>4.5</td>\n",
       "      <td>2009-06-15 17:26:21+00:00</td>\n",
       "      <td>-73.844311</td>\n",
       "      <td>40.721319</td>\n",
       "      <td>-73.841610</td>\n",
       "      <td>40.712278</td>\n",
       "      <td>1</td>\n",
       "      <td>0.009436</td>\n",
       "      <td>0.011742</td>\n",
       "      <td>...</td>\n",
       "      <td>(0, 5]</td>\n",
       "      <td>2009</td>\n",
       "      <td>2</td>\n",
       "      <td>6</td>\n",
       "      <td>17</td>\n",
       "      <td>26</td>\n",
       "      <td>0</td>\n",
       "      <td>0</td>\n",
       "      <td>1</td>\n",
       "      <td>0</td>\n",
       "    </tr>\n",
       "    <tr>\n",
       "      <th>1</th>\n",
       "      <td>52:16.0</td>\n",
       "      <td>16.9</td>\n",
       "      <td>2010-01-05 16:52:16+00:00</td>\n",
       "      <td>-74.016048</td>\n",
       "      <td>40.711303</td>\n",
       "      <td>-73.979268</td>\n",
       "      <td>40.782004</td>\n",
       "      <td>1</td>\n",
       "      <td>0.079696</td>\n",
       "      <td>0.107481</td>\n",
       "      <td>...</td>\n",
       "      <td>(15, 20]</td>\n",
       "      <td>2010</td>\n",
       "      <td>1</td>\n",
       "      <td>1</td>\n",
       "      <td>16</td>\n",
       "      <td>52</td>\n",
       "      <td>0</td>\n",
       "      <td>0</td>\n",
       "      <td>1</td>\n",
       "      <td>0</td>\n",
       "    </tr>\n",
       "    <tr>\n",
       "      <th>2</th>\n",
       "      <td>35:00.0</td>\n",
       "      <td>5.7</td>\n",
       "      <td>2011-08-18 00:35:00+00:00</td>\n",
       "      <td>-73.982738</td>\n",
       "      <td>40.761270</td>\n",
       "      <td>-73.991242</td>\n",
       "      <td>40.750562</td>\n",
       "      <td>2</td>\n",
       "      <td>0.013674</td>\n",
       "      <td>0.019212</td>\n",
       "      <td>...</td>\n",
       "      <td>(5, 10]</td>\n",
       "      <td>2011</td>\n",
       "      <td>3</td>\n",
       "      <td>8</td>\n",
       "      <td>0</td>\n",
       "      <td>35</td>\n",
       "      <td>0</td>\n",
       "      <td>0</td>\n",
       "      <td>0</td>\n",
       "      <td>0</td>\n",
       "    </tr>\n",
       "    <tr>\n",
       "      <th>3</th>\n",
       "      <td>30:42.0</td>\n",
       "      <td>7.7</td>\n",
       "      <td>2012-04-21 04:30:42+00:00</td>\n",
       "      <td>-73.987130</td>\n",
       "      <td>40.733143</td>\n",
       "      <td>-73.991567</td>\n",
       "      <td>40.758092</td>\n",
       "      <td>1</td>\n",
       "      <td>0.025340</td>\n",
       "      <td>0.029386</td>\n",
       "      <td>...</td>\n",
       "      <td>(5, 10]</td>\n",
       "      <td>2012</td>\n",
       "      <td>2</td>\n",
       "      <td>4</td>\n",
       "      <td>4</td>\n",
       "      <td>30</td>\n",
       "      <td>1</td>\n",
       "      <td>0</td>\n",
       "      <td>0</td>\n",
       "      <td>0</td>\n",
       "    </tr>\n",
       "    <tr>\n",
       "      <th>4</th>\n",
       "      <td>51:00.0</td>\n",
       "      <td>5.3</td>\n",
       "      <td>2010-03-09 07:51:00+00:00</td>\n",
       "      <td>-73.968095</td>\n",
       "      <td>40.768008</td>\n",
       "      <td>-73.956655</td>\n",
       "      <td>40.783762</td>\n",
       "      <td>1</td>\n",
       "      <td>0.019470</td>\n",
       "      <td>0.027194</td>\n",
       "      <td>...</td>\n",
       "      <td>(5, 10]</td>\n",
       "      <td>2010</td>\n",
       "      <td>1</td>\n",
       "      <td>3</td>\n",
       "      <td>7</td>\n",
       "      <td>51</td>\n",
       "      <td>0</td>\n",
       "      <td>1</td>\n",
       "      <td>0</td>\n",
       "      <td>0</td>\n",
       "    </tr>\n",
       "  </tbody>\n",
       "</table>\n",
       "<p>5 rows × 23 columns</p>\n",
       "</div>"
      ],
      "text/plain": [
       "       uid  fare                 pickup_dt  long_pickup  lat_pickup  \\\n",
       "0  26:21.0   4.5 2009-06-15 17:26:21+00:00   -73.844311   40.721319   \n",
       "1  52:16.0  16.9 2010-01-05 16:52:16+00:00   -74.016048   40.711303   \n",
       "2  35:00.0   5.7 2011-08-18 00:35:00+00:00   -73.982738   40.761270   \n",
       "3  30:42.0   7.7 2012-04-21 04:30:42+00:00   -73.987130   40.733143   \n",
       "4  51:00.0   5.3 2010-03-09 07:51:00+00:00   -73.968095   40.768008   \n",
       "\n",
       "   long_drop   lat_drop  passe  Euclid_dist  Manhattan_dist  ...  fare_bin  \\\n",
       "0 -73.841610  40.712278      1     0.009436        0.011742  ...    (0, 5]   \n",
       "1 -73.979268  40.782004      1     0.079696        0.107481  ...  (15, 20]   \n",
       "2 -73.991242  40.750562      2     0.013674        0.019212  ...   (5, 10]   \n",
       "3 -73.991567  40.758092      1     0.025340        0.029386  ...   (5, 10]   \n",
       "4 -73.956655  40.783762      1     0.019470        0.027194  ...   (5, 10]   \n",
       "\n",
       "   year  quarter month  hour  minute  Day_Q1  Day_Q2  Day_Q3  Day_Q4  \n",
       "0  2009        2     6    17      26       0       0       1       0  \n",
       "1  2010        1     1    16      52       0       0       1       0  \n",
       "2  2011        3     8     0      35       0       0       0       0  \n",
       "3  2012        2     4     4      30       1       0       0       0  \n",
       "4  2010        1     3     7      51       0       1       0       0  \n",
       "\n",
       "[5 rows x 23 columns]"
      ]
     },
     "execution_count": 63,
     "metadata": {},
     "output_type": "execute_result"
    }
   ],
   "source": [
    "df1['Day_Q1'] = np.where((df1['hour']>0) & (df1['hour']<=6),1,0)\n",
    "df1['Day_Q2'] = np.where((df1['hour']>6) & (df1['hour']<=12),1,0)\n",
    "df1['Day_Q3'] = np.where((df1['hour']>12) & (df1['hour']<=18),1,0)\n",
    "df1['Day_Q4'] = np.where((df1['hour']>18) & (df1['hour']<=0),1,0)\n",
    "df1.head()"
   ]
  },
  {
   "cell_type": "markdown",
   "id": "7584ef2f",
   "metadata": {},
   "source": [
    "## Model-2"
   ]
  },
  {
   "cell_type": "code",
   "execution_count": 64,
   "id": "15da9de0",
   "metadata": {},
   "outputs": [
    {
     "data": {
      "text/plain": [
       "Index(['uid', 'fare', 'pickup_dt', 'long_pickup', 'lat_pickup', 'long_drop',\n",
       "       'lat_drop', 'passe', 'Euclid_dist', 'Manhattan_dist', 'haversine_dist',\n",
       "       'abs_diff_long', 'abs_diff_lat', 'fare_bin', 'year', 'quarter', 'month',\n",
       "       'hour', 'minute', 'Day_Q1', 'Day_Q2', 'Day_Q3', 'Day_Q4'],\n",
       "      dtype='object')"
      ]
     },
     "execution_count": 64,
     "metadata": {},
     "output_type": "execute_result"
    }
   ],
   "source": [
    "df1.columns"
   ]
  },
  {
   "cell_type": "code",
   "execution_count": 65,
   "id": "1c95d004",
   "metadata": {},
   "outputs": [],
   "source": [
    "x1=df1[['passe', 'Euclid_dist', 'Manhattan_dist', 'haversine_dist',\n",
    "       'abs_diff_long', 'abs_diff_lat', 'year', 'quarter', 'month',\n",
    "       'hour', 'minute', 'Day_Q1', 'Day_Q2', 'Day_Q3', 'Day_Q4']]"
   ]
  },
  {
   "cell_type": "code",
   "execution_count": 66,
   "id": "ecfe4d25",
   "metadata": {},
   "outputs": [],
   "source": [
    "y1=df1['fare']"
   ]
  },
  {
   "cell_type": "code",
   "execution_count": 67,
   "id": "92b0792e",
   "metadata": {},
   "outputs": [
    {
     "name": "stdout",
     "output_type": "stream",
     "text": [
      "(34999, 15)\n",
      "(15000, 15)\n",
      "(34999,)\n",
      "(15000,)\n"
     ]
    }
   ],
   "source": [
    "x1_train,x1_test,y1_train,y1_test = train_test_split(x1,y1,test_size=0.30,random_state=10)\n",
    "print(x1_train.shape)\n",
    "print(x1_test.shape)\n",
    "print(y1_train.shape)\n",
    "print(y1_test.shape)"
   ]
  },
  {
   "cell_type": "code",
   "execution_count": 68,
   "id": "4f7a8055",
   "metadata": {
    "scrolled": true
   },
   "outputs": [
    {
     "name": "stdout",
     "output_type": "stream",
     "text": [
      "Training Score 0.9707631093770875\n",
      "Testing Score 0.8000376071249291\n",
      "MAE 2.1035773\n",
      "MSE 15.709909746125\n",
      "RMSE 3.963572851118672\n",
      "R2_Score 0.8000376071249291\n"
     ]
    }
   ],
   "source": [
    "m3= RandomForestRegressor(n_estimators=40,criterion='mse')\n",
    "gen_metrics(m3,x1_train,x1_test,y1_train,y1_test)"
   ]
  },
  {
   "cell_type": "markdown",
   "id": "0e856e35",
   "metadata": {},
   "source": [
    "## Analyzing Multiple Model Performance"
   ]
  },
  {
   "cell_type": "markdown",
   "id": "1d8b1ab4",
   "metadata": {},
   "source": [
    "### Linear regression"
   ]
  },
  {
   "cell_type": "code",
   "execution_count": 69,
   "id": "2993a63c",
   "metadata": {},
   "outputs": [],
   "source": [
    "import statsmodels.api as sm"
   ]
  },
  {
   "cell_type": "code",
   "execution_count": 70,
   "id": "7c93167a",
   "metadata": {},
   "outputs": [
    {
     "name": "stdout",
     "output_type": "stream",
     "text": [
      "                                 OLS Regression Results                                \n",
      "=======================================================================================\n",
      "Dep. Variable:                   fare   R-squared (uncentered):                   0.647\n",
      "Model:                            OLS   Adj. R-squared (uncentered):              0.646\n",
      "Method:                 Least Squares   F-statistic:                              4924.\n",
      "Date:                Sun, 24 Jul 2022   Prob (F-statistic):                        0.00\n",
      "Time:                        17:51:36   Log-Likelihood:                     -1.2491e+05\n",
      "No. Observations:               34999   AIC:                                  2.498e+05\n",
      "Df Residuals:                   34986   BIC:                                  2.500e+05\n",
      "Df Model:                          13                                                  \n",
      "Covariance Type:            nonrobust                                                  \n",
      "==================================================================================\n",
      "                     coef    std err          t      P>|t|      [0.025      0.975]\n",
      "----------------------------------------------------------------------------------\n",
      "passe              0.1117      0.036      3.140      0.002       0.042       0.181\n",
      "Euclid_dist      179.2807      3.069     58.409      0.000     173.265     185.297\n",
      "Manhattan_dist    65.9746      1.132     58.295      0.000      63.756      68.193\n",
      "haversine_dist    -2.8987      0.050    -58.522      0.000      -2.996      -2.802\n",
      "abs_diff_long     -8.3022      0.168    -49.442      0.000      -8.631      -7.973\n",
      "abs_diff_lat      74.2769      1.270     58.465      0.000      71.787      76.767\n",
      "year               0.0051      0.000     38.686      0.000       0.005       0.005\n",
      "quarter           -0.3756      0.173     -2.176      0.030      -0.714      -0.037\n",
      "month              0.1883      0.056      3.371      0.001       0.079       0.298\n",
      "hour              -0.0155      0.011     -1.404      0.160      -0.037       0.006\n",
      "minute            -0.0080      0.003     -3.016      0.003      -0.013      -0.003\n",
      "Day_Q1             0.8040      0.233      3.450      0.001       0.347       1.261\n",
      "Day_Q2            -0.2276      0.154     -1.474      0.141      -0.530       0.075\n",
      "Day_Q3             0.5935      0.121      4.899      0.000       0.356       0.831\n",
      "Day_Q4                  0          0        nan        nan           0           0\n",
      "==============================================================================\n",
      "Omnibus:                    14304.956   Durbin-Watson:                   1.992\n",
      "Prob(Omnibus):                  0.000   Jarque-Bera (JB):         20783102.951\n",
      "Skew:                          -0.175   Prob(JB):                         0.00\n",
      "Kurtosis:                     122.380   Cond. No.                          inf\n",
      "==============================================================================\n",
      "\n",
      "Notes:\n",
      "[1] R² is computed without centering (uncentered) since the model does not contain a constant.\n",
      "[2] Standard Errors assume that the covariance matrix of the errors is correctly specified.\n",
      "[3] The smallest eigenvalue is      0. This might indicate that there are\n",
      "strong multicollinearity problems or that the design matrix is singular.\n"
     ]
    }
   ],
   "source": [
    "lin_reg_model = sm.OLS(y1_train, x1_train).fit()\n",
    "print(lin_reg_model.summary())\n",
    "y_pred_lin_reg = lin_reg_model.predict(x1_test)"
   ]
  },
  {
   "cell_type": "markdown",
   "id": "011002f7",
   "metadata": {},
   "source": [
    "### SGD"
   ]
  },
  {
   "cell_type": "code",
   "execution_count": 71,
   "id": "bacb2a08",
   "metadata": {},
   "outputs": [],
   "source": [
    "from sklearn.linear_model import SGDRegressor"
   ]
  },
  {
   "cell_type": "code",
   "execution_count": 72,
   "id": "09489a0b",
   "metadata": {},
   "outputs": [],
   "source": [
    "sgd = SGDRegressor(random_state = 10)\n",
    "sgd_model = sgd.fit(x1_train,y1_train)\n",
    "y_pred_sgd = sgd_model.predict(x1_test)"
   ]
  },
  {
   "cell_type": "code",
   "execution_count": 73,
   "id": "5db4a7a5",
   "metadata": {},
   "outputs": [
    {
     "name": "stdout",
     "output_type": "stream",
     "text": [
      "Training Score -1.439930303714377e+28\n",
      "Testing Score -1.480721980520826e+28\n",
      "MAE 907274001265078.2\n",
      "MSE 1.1633191791027861e+30\n",
      "RMSE 1078572750955069.4\n",
      "R2_Score -1.480721980520826e+28\n"
     ]
    }
   ],
   "source": [
    "gen_metrics(sgd_model,x1_train,x1_test,y1_train,y1_test)"
   ]
  },
  {
   "cell_type": "markdown",
   "id": "4b19bf25",
   "metadata": {},
   "source": [
    "### Decision Tree"
   ]
  },
  {
   "cell_type": "code",
   "execution_count": 74,
   "id": "3d4b78f4",
   "metadata": {},
   "outputs": [],
   "source": [
    "from sklearn.tree import DecisionTreeRegressor\n",
    "from sklearn import tree"
   ]
  },
  {
   "cell_type": "code",
   "execution_count": 75,
   "id": "6ebbd556",
   "metadata": {},
   "outputs": [
    {
     "name": "stdout",
     "output_type": "stream",
     "text": [
      "Training Score 0.8067388401311961\n",
      "Testing Score 0.8009412980520022\n",
      "MAE 2.2076244041214093\n",
      "MSE 15.638911881483617\n",
      "RMSE 3.9546064129674923\n",
      "R2_Score 0.8009412980520022\n"
     ]
    }
   ],
   "source": [
    "dt = DecisionTreeRegressor(max_depth = 7, max_leaf_nodes= 30)\n",
    "dt_model = dt.fit(x1_train,y1_train)\n",
    "y_pred_dt = dt_model.predict(x1_test)\n",
    "gen_metrics(dt_model,x1_train,x1_test,y1_train,y1_test)"
   ]
  },
  {
   "cell_type": "code",
   "execution_count": 76,
   "id": "44f83abf",
   "metadata": {},
   "outputs": [],
   "source": [
    "from sklearn.tree import plot_tree,export_text"
   ]
  },
  {
   "cell_type": "code",
   "execution_count": 77,
   "id": "8e952185",
   "metadata": {},
   "outputs": [
    {
     "data": {
      "image/png": "[encoded data removed]",
      "text/plain": [
       "<Figure size 1440x1296 with 1 Axes>"
      ]
     },
     "metadata": {
      "needs_background": "light"
     },
     "output_type": "display_data"
    }
   ],
   "source": [
    "plt.figure(figsize=(20,18))\n",
    "plot_tree(dt_model,feature_names=x1_train.columns,filled=True)\n",
    "plt.show()"
   ]
  },
  {
   "cell_type": "markdown",
   "id": "ddb38900",
   "metadata": {},
   "source": [
    "### Grid Search"
   ]
  },
  {
   "cell_type": "code",
   "execution_count": 78,
   "id": "23651aca",
   "metadata": {},
   "outputs": [],
   "source": [
    "from sklearn.model_selection import GridSearchCV"
   ]
  },
  {
   "cell_type": "code",
   "execution_count": 79,
   "id": "decaf182",
   "metadata": {},
   "outputs": [],
   "source": [
    "tuned_parameters_dt = {\"max_depth\":[3,5,7,9,10],\n",
    "                   \"max_leaf_nodes\":[15,20,25,30,35]}\n",
    "dt_est = DecisionTreeRegressor(random_state = 10)\n",
    "grid_tree = GridSearchCV(dt_est,param_grid = tuned_parameters_dt, cv= 10)\n",
    "dt_grid = grid_tree.fit(x1_train, y1_train)"
   ]
  },
  {
   "cell_type": "code",
   "execution_count": 80,
   "id": "e8c01df6",
   "metadata": {},
   "outputs": [
    {
     "name": "stdout",
     "output_type": "stream",
     "text": [
      "Hyper Parameters: {'max_depth': 7, 'max_leaf_nodes': 35}\n"
     ]
    }
   ],
   "source": [
    "print(\"Hyper Parameters:\", dt_grid.best_params_)"
   ]
  },
  {
   "cell_type": "code",
   "execution_count": 81,
   "id": "118a29d0",
   "metadata": {},
   "outputs": [],
   "source": [
    "dt_gscv = DecisionTreeRegressor(max_depth = dt_grid.best_params_.get(\"max_depth\"),\n",
    "                                max_leaf_nodes= dt_grid.best_params_.get(\"max_leaf_nodes\"))\n",
    "dt_gscv_model = dt_gscv.fit(x1_train,y1_train)\n",
    "y_pred_dt_gscv = dt_gscv_model.predict(x1_test)"
   ]
  },
  {
   "cell_type": "code",
   "execution_count": 82,
   "id": "776734ba",
   "metadata": {},
   "outputs": [
    {
     "name": "stdout",
     "output_type": "stream",
     "text": [
      "Training Score 0.8102224857239564\n",
      "Testing Score 0.8026557056880173\n",
      "MAE 2.1890896434943072\n",
      "MSE 15.504220608576667\n",
      "RMSE 3.937539918347072\n",
      "R2_Score 0.8026557056880173\n"
     ]
    }
   ],
   "source": [
    "gen_metrics(dt_gscv_model,x1_train,x1_test,y1_train,y1_test)"
   ]
  },
  {
   "cell_type": "code",
   "execution_count": 83,
   "id": "2ac13c33",
   "metadata": {},
   "outputs": [
    {
     "data": {
      "image/png": "[encoded data removed]",
      "text/plain": [
       "<Figure size 1440x1296 with 1 Axes>"
      ]
     },
     "metadata": {
      "needs_background": "light"
     },
     "output_type": "display_data"
    }
   ],
   "source": [
    "plt.figure(figsize=(20,18))\n",
    "plot_tree(dt_gscv_model,feature_names=x1_train.columns,filled=True)\n",
    "plt.show()"
   ]
  },
  {
   "cell_type": "markdown",
   "id": "20fc89d7",
   "metadata": {},
   "source": [
    "### Random Forest"
   ]
  },
  {
   "cell_type": "code",
   "execution_count": 84,
   "id": "cd1034de",
   "metadata": {},
   "outputs": [],
   "source": [
    "rf = RandomForestRegressor(max_depth = 7, max_leaf_nodes= 30, n_estimators = 100)\n",
    "rf_model = rf.fit(x1_train,y1_train)\n",
    "y_pred_rf = rf_model.predict(x1_test)"
   ]
  },
  {
   "cell_type": "code",
   "execution_count": 85,
   "id": "27ab1047",
   "metadata": {},
   "outputs": [
    {
     "name": "stdout",
     "output_type": "stream",
     "text": [
      "Training Score 0.815301814876397\n",
      "Testing Score 0.8084155994789077\n",
      "MAE 2.152457517848267\n",
      "MSE 15.051698460281067\n",
      "RMSE 3.879651847818444\n",
      "R2_Score 0.8084155994789077\n"
     ]
    }
   ],
   "source": [
    "gen_metrics(rf_model,x1_train,x1_test,y1_train,y1_test)"
   ]
  },
  {
   "cell_type": "markdown",
   "id": "5950cf9e",
   "metadata": {},
   "source": [
    "### Grid Search"
   ]
  },
  {
   "cell_type": "code",
   "execution_count": 86,
   "id": "e9a7d7d8",
   "metadata": {},
   "outputs": [],
   "source": [
    "tuned_parameters_rf = {\"n_estimators\":[80,100,120],\n",
    "                       \"max_depth\":[3,5,7,9,10],\n",
    "                   \"max_leaf_nodes\":[15,20,25,30,35]}\n",
    "rf_est = RandomForestRegressor(random_state = 10)\n",
    "grid_tree = GridSearchCV(rf_est,param_grid = tuned_parameters_rf, cv= 10)\n",
    "rf_grid = grid_tree.fit(x1_train, y1_train)"
   ]
  },
  {
   "cell_type": "code",
   "execution_count": 87,
   "id": "e11295d6",
   "metadata": {},
   "outputs": [
    {
     "name": "stdout",
     "output_type": "stream",
     "text": [
      "Hyper paramters: {'max_depth': 7, 'max_leaf_nodes': 35, 'n_estimators': 100}\n"
     ]
    }
   ],
   "source": [
    "print(\"Hyper paramters:\", rf_grid.best_params_)"
   ]
  },
  {
   "cell_type": "code",
   "execution_count": 88,
   "id": "f11978d4",
   "metadata": {},
   "outputs": [],
   "source": [
    "rf_gscv = RandomForestRegressor(max_depth = rf_grid.best_params_.get(\"max_depth\"),\n",
    "                           max_leaf_nodes= rf_grid.best_params_.get(\"max_leaf_nodes\"),\n",
    "                           n_estimators = rf_grid.best_params_.get(\"n_estimators\"))\n",
    "rf_gscv_model = rf_gscv.fit(x1_train,y1_train)\n",
    "y_pred_rf_gscv = rf_gscv_model.predict(x1_test)"
   ]
  },
  {
   "cell_type": "code",
   "execution_count": 89,
   "id": "d7c3e438",
   "metadata": {},
   "outputs": [
    {
     "name": "stdout",
     "output_type": "stream",
     "text": [
      "Training Score 0.8185579200489785\n",
      "Testing Score 0.8093538199697917\n",
      "MAE 2.1388021493350227\n",
      "MSE 14.977987803882986\n",
      "RMSE 3.870140540585443\n",
      "R2_Score 0.8093538199697917\n"
     ]
    }
   ],
   "source": [
    "gen_metrics(rf_gscv_model,x1_train,x1_test,y1_train,y1_test)"
   ]
  },
  {
   "cell_type": "markdown",
   "id": "0b76ae04",
   "metadata": {},
   "source": [
    "## Results"
   ]
  },
  {
   "cell_type": "code",
   "execution_count": 91,
   "id": "242546bc",
   "metadata": {},
   "outputs": [],
   "source": [
    "from math import sqrt"
   ]
  },
  {
   "cell_type": "code",
   "execution_count": 92,
   "id": "dfb96d3a",
   "metadata": {},
   "outputs": [
    {
     "data": {
      "text/html": [
       "<div>\n",
       "<style scoped>\n",
       "    .dataframe tbody tr th:only-of-type {\n",
       "        vertical-align: middle;\n",
       "    }\n",
       "\n",
       "    .dataframe tbody tr th {\n",
       "        vertical-align: top;\n",
       "    }\n",
       "\n",
       "    .dataframe thead th {\n",
       "        text-align: right;\n",
       "    }\n",
       "</style>\n",
       "<table border=\"1\" class=\"dataframe\">\n",
       "  <thead>\n",
       "    <tr style=\"text-align: right;\">\n",
       "      <th></th>\n",
       "      <th>Model Name</th>\n",
       "      <th>R-Squared</th>\n",
       "      <th>RMSE</th>\n",
       "    </tr>\n",
       "  </thead>\n",
       "  <tbody>\n",
       "    <tr>\n",
       "      <th>0</th>\n",
       "      <td>OLS Model</td>\n",
       "      <td>6.465786e-01</td>\n",
       "      <td>8.229612e+00</td>\n",
       "    </tr>\n",
       "    <tr>\n",
       "      <th>1</th>\n",
       "      <td>SGD Model</td>\n",
       "      <td>-1.439930e+28</td>\n",
       "      <td>1.078573e+15</td>\n",
       "    </tr>\n",
       "    <tr>\n",
       "      <th>2</th>\n",
       "      <td>Decision Tree Model</td>\n",
       "      <td>8.067388e-01</td>\n",
       "      <td>3.954606e+00</td>\n",
       "    </tr>\n",
       "    <tr>\n",
       "      <th>3</th>\n",
       "      <td>Optimised Decision Tree Model</td>\n",
       "      <td>8.102225e-01</td>\n",
       "      <td>3.937540e+00</td>\n",
       "    </tr>\n",
       "    <tr>\n",
       "      <th>4</th>\n",
       "      <td>Random Forest Model</td>\n",
       "      <td>8.153018e-01</td>\n",
       "      <td>3.877806e+00</td>\n",
       "    </tr>\n",
       "    <tr>\n",
       "      <th>5</th>\n",
       "      <td>Optimised Random Forest Model</td>\n",
       "      <td>8.185579e-01</td>\n",
       "      <td>3.866576e+00</td>\n",
       "    </tr>\n",
       "  </tbody>\n",
       "</table>\n",
       "</div>"
      ],
      "text/plain": [
       "                      Model Name     R-Squared          RMSE\n",
       "0                      OLS Model  6.465786e-01  8.229612e+00\n",
       "1                      SGD Model -1.439930e+28  1.078573e+15\n",
       "2            Decision Tree Model  8.067388e-01  3.954606e+00\n",
       "3  Optimised Decision Tree Model  8.102225e-01  3.937540e+00\n",
       "4            Random Forest Model  8.153018e-01  3.877806e+00\n",
       "5  Optimised Random Forest Model  8.185579e-01  3.866576e+00"
      ]
     },
     "execution_count": 92,
     "metadata": {},
     "output_type": "execute_result"
    }
   ],
   "source": [
    "models=pd.DataFrame({\"Model Name\":[\"OLS Model\", \"SGD Model\", \"Decision Tree Model\",\n",
    "                           \"Optimised Decision Tree Model\",\"Random Forest Model\",\n",
    "                           \"Optimised Random Forest Model\"],\n",
    "             \"R-Squared\":[lin_reg_model.rsquared, sgd.score(x1_train,y1_train),\n",
    "                          dt.score(x1_train,y1_train),dt_gscv.score(x1_train,y1_train),\n",
    "                          rf.score(x1_train,y1_train), rf_gscv.score(x1_train,y1_train)],\n",
    "             \"RMSE\":[sqrt(mean_squared_error(y1_test,y_pred_lin_reg)),sqrt(mean_squared_error(y1_test,y_pred_sgd)),\n",
    "                    sqrt(mean_squared_error(y1_test,y_pred_dt)),sqrt(mean_squared_error(y1_test,y_pred_dt_gscv)),\n",
    "                    sqrt(mean_squared_error(y1_test,y_pred_rf)),sqrt(mean_squared_error(y1_test,y_pred_rf_gscv))]})\n",
    "models"
   ]
  },
  {
   "cell_type": "markdown",
   "id": "ec80318e",
   "metadata": {},
   "source": [
    "#### Removing SGD model since it results low r-squared value "
   ]
  },
  {
   "cell_type": "code",
   "execution_count": 96,
   "id": "3e333cfd",
   "metadata": {},
   "outputs": [
    {
     "data": {
      "text/html": [
       "<div>\n",
       "<style scoped>\n",
       "    .dataframe tbody tr th:only-of-type {\n",
       "        vertical-align: middle;\n",
       "    }\n",
       "\n",
       "    .dataframe tbody tr th {\n",
       "        vertical-align: top;\n",
       "    }\n",
       "\n",
       "    .dataframe thead th {\n",
       "        text-align: right;\n",
       "    }\n",
       "</style>\n",
       "<table border=\"1\" class=\"dataframe\">\n",
       "  <thead>\n",
       "    <tr style=\"text-align: right;\">\n",
       "      <th></th>\n",
       "      <th>Model Name</th>\n",
       "      <th>R-Squared</th>\n",
       "      <th>RMSE</th>\n",
       "    </tr>\n",
       "  </thead>\n",
       "  <tbody>\n",
       "    <tr>\n",
       "      <th>0</th>\n",
       "      <td>OLS Model</td>\n",
       "      <td>0.646579</td>\n",
       "      <td>8.229612</td>\n",
       "    </tr>\n",
       "    <tr>\n",
       "      <th>1</th>\n",
       "      <td>Decision Tree Model</td>\n",
       "      <td>0.806739</td>\n",
       "      <td>3.954606</td>\n",
       "    </tr>\n",
       "    <tr>\n",
       "      <th>2</th>\n",
       "      <td>Optimised Decision Tree Model</td>\n",
       "      <td>0.810222</td>\n",
       "      <td>3.937540</td>\n",
       "    </tr>\n",
       "    <tr>\n",
       "      <th>3</th>\n",
       "      <td>Random Forest Model</td>\n",
       "      <td>0.815302</td>\n",
       "      <td>3.877806</td>\n",
       "    </tr>\n",
       "    <tr>\n",
       "      <th>4</th>\n",
       "      <td>Optimised Random Forest Model</td>\n",
       "      <td>0.818558</td>\n",
       "      <td>3.866576</td>\n",
       "    </tr>\n",
       "  </tbody>\n",
       "</table>\n",
       "</div>"
      ],
      "text/plain": [
       "                      Model Name  R-Squared      RMSE\n",
       "0                      OLS Model   0.646579  8.229612\n",
       "1            Decision Tree Model   0.806739  3.954606\n",
       "2  Optimised Decision Tree Model   0.810222  3.937540\n",
       "3            Random Forest Model   0.815302  3.877806\n",
       "4  Optimised Random Forest Model   0.818558  3.866576"
      ]
     },
     "execution_count": 96,
     "metadata": {},
     "output_type": "execute_result"
    }
   ],
   "source": [
    "models=pd.DataFrame({\"Model Name\":[\"OLS Model\", \"Decision Tree Model\",\n",
    "                           \"Optimised Decision Tree Model\",\"Random Forest Model\",\n",
    "                           \"Optimised Random Forest Model\"],\n",
    "             \"R-Squared\":[lin_reg_model.rsquared,\n",
    "                          dt.score(x1_train,y1_train),dt_gscv.score(x1_train,y1_train),\n",
    "                          rf.score(x1_train,y1_train), rf_gscv.score(x1_train,y1_train)],\n",
    "             \"RMSE\":[sqrt(mean_squared_error(y1_test,y_pred_lin_reg)),\n",
    "                    sqrt(mean_squared_error(y1_test,y_pred_dt)),sqrt(mean_squared_error(y1_test,y_pred_dt_gscv)),\n",
    "                    sqrt(mean_squared_error(y1_test,y_pred_rf)),sqrt(mean_squared_error(y1_test,y_pred_rf_gscv))]})\n",
    "models"
   ]
  },
  {
   "cell_type": "markdown",
   "id": "e11201e0",
   "metadata": {},
   "source": [
    "### Conclusion\n",
    "- Optimised Random Forest Model performs the best."
   ]
  },
  {
   "cell_type": "code",
   "execution_count": null,
   "id": "36dde56b",
   "metadata": {},
   "outputs": [],
   "source": []
  }
 ],
 "metadata": {
  "kernelspec": {
   "display_name": "Python 3 (ipykernel)",
   "language": "python",
   "name": "python3"
  },
  "language_info": {
   "codemirror_mode": {
    "name": "ipython",
    "version": 3
   },
   "file_extension": ".py",
   "mimetype": "text/x-python",
   "name": "python",
   "nbconvert_exporter": "python",
   "pygments_lexer": "ipython3",
   "version": "3.9.7"
  }
 },
 "nbformat": 4,
 "nbformat_minor": 5
}
